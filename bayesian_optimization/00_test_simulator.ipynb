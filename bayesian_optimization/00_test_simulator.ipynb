{
 "cells": [
  {
   "cell_type": "code",
   "execution_count": 1,
   "metadata": {},
   "outputs": [],
   "source": [
    "from helpers import *"
   ]
  },
  {
   "cell_type": "code",
   "execution_count": 2,
   "metadata": {},
   "outputs": [],
   "source": [
    "base_path = '..'"
   ]
  },
  {
   "cell_type": "code",
   "execution_count": 4,
   "metadata": {},
   "outputs": [],
   "source": [
    "\n",
    "# taz2edge_xml = 'taz_new.xml'\n",
    "# net_xml = 'SFO.net.xml'\n",
    "# fixed_routes_xml = f'{base_path}/5hr_route_choice_set.csv'\n",
    "\n",
    "# TODO : currently using quickstart network for testing\n",
    "taz2edge_xml = 'network/quickstart/quickstart.taz.xml'\n",
    "net_xml = 'network/quickstart/quickstart.net.xml'\n",
    "fixed_routes_xml = f'{base_path}/quickstart_route.csv'\n",
    "\n",
    "od_duration_seconds = 5*60 \n",
    "\n",
    "# duration of sample time for simulation output statistics\n",
    "simulation_stat_freq_sec = od_duration_seconds\n",
    "sim_end_time = od_duration_seconds\n",
    "additional_xml = f'additional.add_statfreq{od_duration_seconds}.xml'\n",
    "\n",
    "# suffix of simulation output edge file\n",
    "EDGE_OUT_STR = 'edge_data_SFO.xml'\n",
    "TRIPS2ODS_OUT_STR = 'trips.xml'\n",
    "# SUMO_PATH = '/usr/local/opt/sumo/share/sumo'\n",
    "SUMO_PATH = \"/usr/share/sumo\"\n"
   ]
  },
  {
   "cell_type": "code",
   "execution_count": 5,
   "metadata": {},
   "outputs": [
    {
     "name": "stdout",
     "output_type": "stream",
     "text": [
      "if you want to optimize them all (~86k) set num_ods as defined in commented line below\n"
     ]
    }
   ],
   "source": [
    "gt_version_str = 'v4'\n",
    "\n",
    "\n",
    "# # gt v5:\n",
    "# mean_od_val = 100\n",
    "# num_ods = 100\n",
    "\n",
    "# gt v4:\n",
    "mean_od_val = 100\n",
    "num_ods = 10\n",
    "\n",
    "# # gt v3:\n",
    "# mean_od_val = 0.05\n",
    "\n",
    "# # gt v2:\n",
    "# mean_od_val = 0.5\n",
    "#num_ods = routes_df.shape[0]\n",
    "\n",
    "\n",
    "# # gt v1:\n",
    "# mean_od_val = 100\n",
    "#num_ods = routes_df.shape[0]\n",
    "\n",
    "\n",
    "print('if you want to optimize them all (~86k) set num_ods as defined in commented line below')\n",
    "#num_ods = routes_df.shape[0]"
   ]
  },
  {
   "cell_type": "code",
   "execution_count": 16,
   "metadata": {},
   "outputs": [],
   "source": [
    "# od_xml = f'gt_od_{gt_version_str}.xml'\n",
    "# file_gt = f'{base_path}/gt_od_{gt_version_str}.xml'\n",
    "# file_gt_edges = f'{base_path}/gt_edges_{gt_version_str}.csv'\n",
    "# prefix_output = f'gt_{gt_version_str}'\n",
    "\n",
    "\n",
    "od_xml = \"network/guickstart/quickstart.gt_od.xml\"\n",
    "file_gt = \"../network/quickstart/quickstart.gt_od.xml\"\n",
    "file_gt_edges = \"network/quickstart/quickstart.gt_edges.csv\"\n",
    "prefix_output = \"quickstart_gt\""
   ]
  },
  {
   "cell_type": "code",
   "execution_count": 17,
   "metadata": {},
   "outputs": [
    {
     "name": "stdout",
     "output_type": "stream",
     "text": [
      "Reading: ../network/quickstart/quickstart.gt_od.xml\n"
     ]
    },
    {
     "data": {
      "text/html": [
       "<div>\n",
       "<style scoped>\n",
       "    .dataframe tbody tr th:only-of-type {\n",
       "        vertical-align: middle;\n",
       "    }\n",
       "\n",
       "    .dataframe tbody tr th {\n",
       "        vertical-align: top;\n",
       "    }\n",
       "\n",
       "    .dataframe thead th {\n",
       "        text-align: right;\n",
       "    }\n",
       "</style>\n",
       "<table border=\"1\" class=\"dataframe\">\n",
       "  <thead>\n",
       "    <tr style=\"text-align: right;\">\n",
       "      <th></th>\n",
       "      <th>{http://www.w3.org/2001/XMLSchema-instance}noNamespaceSchemaLocation</th>\n",
       "      <th>from</th>\n",
       "      <th>to</th>\n",
       "      <th>count</th>\n",
       "      <th>data</th>\n",
       "    </tr>\n",
       "  </thead>\n",
       "  <tbody>\n",
       "    <tr>\n",
       "      <th>0</th>\n",
       "      <td>http://sumo.dlr.de/xsd/datamode_file.xsd</td>\n",
       "      <td>taz91</td>\n",
       "      <td>taz93</td>\n",
       "      <td>500</td>\n",
       "      <td>None</td>\n",
       "    </tr>\n",
       "    <tr>\n",
       "      <th>1</th>\n",
       "      <td>http://sumo.dlr.de/xsd/datamode_file.xsd</td>\n",
       "      <td>taz91</td>\n",
       "      <td>taz94</td>\n",
       "      <td>500</td>\n",
       "      <td>None</td>\n",
       "    </tr>\n",
       "    <tr>\n",
       "      <th>2</th>\n",
       "      <td>http://sumo.dlr.de/xsd/datamode_file.xsd</td>\n",
       "      <td>taz92</td>\n",
       "      <td>taz93</td>\n",
       "      <td>900</td>\n",
       "      <td>None</td>\n",
       "    </tr>\n",
       "    <tr>\n",
       "      <th>3</th>\n",
       "      <td>http://sumo.dlr.de/xsd/datamode_file.xsd</td>\n",
       "      <td>taz92</td>\n",
       "      <td>taz94</td>\n",
       "      <td>900</td>\n",
       "      <td>None</td>\n",
       "    </tr>\n",
       "  </tbody>\n",
       "</table>\n",
       "</div>"
      ],
      "text/plain": [
       "  {http://www.w3.org/2001/XMLSchema-instance}noNamespaceSchemaLocation   from  \\\n",
       "0           http://sumo.dlr.de/xsd/datamode_file.xsd                    taz91   \n",
       "1           http://sumo.dlr.de/xsd/datamode_file.xsd                    taz91   \n",
       "2           http://sumo.dlr.de/xsd/datamode_file.xsd                    taz92   \n",
       "3           http://sumo.dlr.de/xsd/datamode_file.xsd                    taz92   \n",
       "\n",
       "      to count  data  \n",
       "0  taz93   500  None  \n",
       "1  taz94   500  None  \n",
       "2  taz93   900  None  \n",
       "3  taz94   900  None  "
      ]
     },
     "execution_count": 17,
     "metadata": {},
     "output_type": "execute_result"
    }
   ],
   "source": [
    "# Get GT OD\n",
    "print(\"Reading:\",file_gt)\n",
    "tree = ET.parse(file_gt)\n",
    "root = tree.getroot()\n",
    "gt_od_df =  xml2df_str(root, 'tazRelation')\n",
    "\n",
    "gt_od_df.head()"
   ]
  },
  {
   "cell_type": "code",
   "execution_count": 18,
   "metadata": {},
   "outputs": [
    {
     "name": "stdout",
     "output_type": "stream",
     "text": [
      "Reading: ../quickstart_route.csv\n",
      "  fromTaz  toTaz              route_edges  id start_edge last_edge\n",
      "0   taz91  taz94      D2 L2 L12 L10 L7 D7   0         D2        D7\n",
      "1   taz91  taz93  D2 L2 L12 L15 L18 L5 D5   1         D2        D5\n",
      "2   taz92  taz93      D4 L4 L14 L18 L5 D5   2         D4        D5\n",
      "3   taz92  taz94  D4 L4 L14 L16 L10 L7 D7   3         D4        D7\n"
     ]
    }
   ],
   "source": [
    "print(\"Reading:\",fixed_routes_xml)\n",
    "routes_df = pd.read_csv(fixed_routes_xml, index_col=0)\n",
    "print(routes_df)"
   ]
  },
  {
   "cell_type": "code",
   "execution_count": 19,
   "metadata": {},
   "outputs": [
    {
     "data": {
      "text/plain": [
       "'network/guickstart/quickstart.gt_od.xml'"
      ]
     },
     "execution_count": 19,
     "metadata": {},
     "output_type": "execute_result"
    }
   ],
   "source": [
    "od_xml"
   ]
  },
  {
   "cell_type": "code",
   "execution_count": 20,
   "metadata": {},
   "outputs": [
    {
     "data": {
      "text/plain": [
       "'quickstart_gt'"
      ]
     },
     "execution_count": 20,
     "metadata": {},
     "output_type": "execute_result"
    }
   ],
   "source": [
    "prefix_output"
   ]
  },
  {
   "cell_type": "code",
   "execution_count": 22,
   "metadata": {},
   "outputs": [
    {
     "name": "stdout",
     "output_type": "stream",
     "text": [
      "od2trips  --spread.uniform --taz-files ../network/quickstart/quickstart.taz.xml --tazrelation-files ../network/guickstart/quickstart.gt_od.xml -o ../quickstart_gt_trips_beforeRteUpdates.xml\n"
     ]
    },
    {
     "name": "stderr",
     "output_type": "stream",
     "text": [
      "Error: Could not access matrix file '../network/guickstart/quickstart.gt_od.xml' to load.\n",
      "Quitting (on error).\n"
     ]
    },
    {
     "ename": "KeyError",
     "evalue": "\"['to', 'from'] not found in axis\"",
     "output_type": "error",
     "traceback": [
      "\u001b[0;31m---------------------------------------------------------------------------\u001b[0m",
      "\u001b[0;31mKeyError\u001b[0m                                  Traceback (most recent call last)",
      "Cell \u001b[0;32mIn[22], line 2\u001b[0m\n\u001b[1;32m      1\u001b[0m \u001b[38;5;66;03m# simulate gt od\u001b[39;00m\n\u001b[0;32m----> 2\u001b[0m \u001b[43msimulate_od\u001b[49m\u001b[43m(\u001b[49m\u001b[43mod_xml\u001b[49m\u001b[43m,\u001b[49m\u001b[43m \u001b[49m\n\u001b[1;32m      3\u001b[0m \u001b[43m            \u001b[49m\u001b[43mprefix_output\u001b[49m\u001b[43m,\u001b[49m\u001b[43m \u001b[49m\n\u001b[1;32m      4\u001b[0m \u001b[43m            \u001b[49m\u001b[43mbase_path\u001b[49m\u001b[43m,\u001b[49m\u001b[43m \u001b[49m\n\u001b[1;32m      5\u001b[0m \u001b[43m            \u001b[49m\u001b[43mnet_xml\u001b[49m\u001b[43m,\u001b[49m\u001b[43m \u001b[49m\n\u001b[1;32m      6\u001b[0m \u001b[43m            \u001b[49m\u001b[43mtaz2edge_xml\u001b[49m\u001b[43m,\u001b[49m\u001b[43m \u001b[49m\n\u001b[1;32m      7\u001b[0m \u001b[43m            \u001b[49m\u001b[43madditional_xml\u001b[49m\u001b[43m,\u001b[49m\n\u001b[1;32m      8\u001b[0m \u001b[43m            \u001b[49m\u001b[43mroutes_df\u001b[49m\u001b[43m,\u001b[49m\n\u001b[1;32m      9\u001b[0m \u001b[43m            \u001b[49m\u001b[43msim_end_time\u001b[49m\u001b[43m,\u001b[49m\n\u001b[1;32m     10\u001b[0m \u001b[43m            \u001b[49m\u001b[43mTRIPS2ODS_OUT_STR\u001b[49m\u001b[43m)\u001b[49m\n",
      "File \u001b[0;32m~/Gitsrcs/origin_destination_bayes_opt/bayesian_optimization/helpers.py:171\u001b[0m, in \u001b[0;36msimulate_od\u001b[0;34m(od_xml, prefix_output, base_dir, net_xml, taz2edge_xml, additional_xml, routes_df, sim_end_time, TRIPS2ODS_OUT_STR, sim_start_time, seed)\u001b[0m\n\u001b[1;32m    167\u001b[0m     \u001b[38;5;28mprint\u001b[39m(\u001b[38;5;124m\"\u001b[39m\u001b[38;5;124mUnable to create trips file in od2trips\u001b[39m\u001b[38;5;124m\"\u001b[39m)\n\u001b[1;32m    169\u001b[0m \u001b[38;5;66;03m# update to and from edges of the trips file generated by od2trips to \u001b[39;00m\n\u001b[1;32m    170\u001b[0m \u001b[38;5;66;03m# make it consistent with the given route choice file\u001b[39;00m\n\u001b[0;32m--> 171\u001b[0m \u001b[43mupdate_trip_routes\u001b[49m\u001b[43m(\u001b[49m\u001b[43mtrip_output_file_od2trips_before\u001b[49m\u001b[43m,\u001b[49m\u001b[43m \u001b[49m\u001b[43mtrip_output_file_od2trips_after\u001b[49m\u001b[43m,\u001b[49m\u001b[43m \u001b[49m\u001b[43mroutes_df\u001b[49m\u001b[43m)\u001b[49m\n\u001b[1;32m    173\u001b[0m \u001b[38;5;28;01mtry\u001b[39;00m:\n\u001b[1;32m    174\u001b[0m     \u001b[38;5;28mprint\u001b[39m(\u001b[38;5;124m\"\u001b[39m\u001b[38;5;124m###### Running SUMO #######\u001b[39m\u001b[38;5;124m\"\u001b[39m)\n",
      "File \u001b[0;32m~/Gitsrcs/origin_destination_bayes_opt/bayesian_optimization/helpers.py:35\u001b[0m, in \u001b[0;36mupdate_trip_routes\u001b[0;34m(in_trips_xml, out_trips_xml, rtes_df)\u001b[0m\n\u001b[1;32m     32\u001b[0m rtes_df[\u001b[38;5;124m'\u001b[39m\u001b[38;5;124mfromTaz\u001b[39m\u001b[38;5;124m'\u001b[39m] \u001b[38;5;241m=\u001b[39m rtes_df[\u001b[38;5;124m'\u001b[39m\u001b[38;5;124mfromTaz\u001b[39m\u001b[38;5;124m'\u001b[39m]\u001b[38;5;241m.\u001b[39mastype(\u001b[38;5;28mstr\u001b[39m)\n\u001b[1;32m     33\u001b[0m rtes_df[\u001b[38;5;124m'\u001b[39m\u001b[38;5;124mtoTaz\u001b[39m\u001b[38;5;124m'\u001b[39m] \u001b[38;5;241m=\u001b[39m rtes_df[\u001b[38;5;124m'\u001b[39m\u001b[38;5;124mtoTaz\u001b[39m\u001b[38;5;124m'\u001b[39m]\u001b[38;5;241m.\u001b[39mastype(\u001b[38;5;28mstr\u001b[39m)    \n\u001b[0;32m---> 35\u001b[0m trips_df \u001b[38;5;241m=\u001b[39m \u001b[43mtrips_df\u001b[49m\u001b[38;5;241;43m.\u001b[39;49m\u001b[43mdrop\u001b[49m\u001b[43m(\u001b[49m\u001b[43mcolumns\u001b[49m\u001b[38;5;241;43m=\u001b[39;49m\u001b[43m[\u001b[49m\u001b[38;5;124;43m'\u001b[39;49m\u001b[38;5;124;43mto\u001b[39;49m\u001b[38;5;124;43m'\u001b[39;49m\u001b[43m,\u001b[49m\u001b[38;5;124;43m'\u001b[39;49m\u001b[38;5;124;43mfrom\u001b[39;49m\u001b[38;5;124;43m'\u001b[39;49m\u001b[43m]\u001b[49m\u001b[43m)\u001b[49m\n\u001b[1;32m     37\u001b[0m \u001b[38;5;66;03m# only keep ODs that are in initial OD set\u001b[39;00m\n\u001b[1;32m     38\u001b[0m trips_df \u001b[38;5;241m=\u001b[39m  trips_df\u001b[38;5;241m.\u001b[39mmerge(rtes_df[[\u001b[38;5;124m'\u001b[39m\u001b[38;5;124mfromTaz\u001b[39m\u001b[38;5;124m'\u001b[39m,\u001b[38;5;124m'\u001b[39m\u001b[38;5;124mtoTaz\u001b[39m\u001b[38;5;124m'\u001b[39m,\u001b[38;5;124m'\u001b[39m\u001b[38;5;124mstart_edge\u001b[39m\u001b[38;5;124m'\u001b[39m,\u001b[38;5;124m'\u001b[39m\u001b[38;5;124mlast_edge\u001b[39m\u001b[38;5;124m'\u001b[39m]], on\u001b[38;5;241m=\u001b[39m[\u001b[38;5;124m'\u001b[39m\u001b[38;5;124mfromTaz\u001b[39m\u001b[38;5;124m'\u001b[39m,\u001b[38;5;124m'\u001b[39m\u001b[38;5;124mtoTaz\u001b[39m\u001b[38;5;124m'\u001b[39m], how\u001b[38;5;241m=\u001b[39m\u001b[38;5;124m'\u001b[39m\u001b[38;5;124minner\u001b[39m\u001b[38;5;124m'\u001b[39m)    \n",
      "File \u001b[0;32m~/.local/lib/python3.10/site-packages/pandas/core/frame.py:5568\u001b[0m, in \u001b[0;36mDataFrame.drop\u001b[0;34m(self, labels, axis, index, columns, level, inplace, errors)\u001b[0m\n\u001b[1;32m   5420\u001b[0m \u001b[38;5;28;01mdef\u001b[39;00m \u001b[38;5;21mdrop\u001b[39m(\n\u001b[1;32m   5421\u001b[0m     \u001b[38;5;28mself\u001b[39m,\n\u001b[1;32m   5422\u001b[0m     labels: IndexLabel \u001b[38;5;241m|\u001b[39m \u001b[38;5;28;01mNone\u001b[39;00m \u001b[38;5;241m=\u001b[39m \u001b[38;5;28;01mNone\u001b[39;00m,\n\u001b[0;32m   (...)\u001b[0m\n\u001b[1;32m   5429\u001b[0m     errors: IgnoreRaise \u001b[38;5;241m=\u001b[39m \u001b[38;5;124m\"\u001b[39m\u001b[38;5;124mraise\u001b[39m\u001b[38;5;124m\"\u001b[39m,\n\u001b[1;32m   5430\u001b[0m ) \u001b[38;5;241m-\u001b[39m\u001b[38;5;241m>\u001b[39m DataFrame \u001b[38;5;241m|\u001b[39m \u001b[38;5;28;01mNone\u001b[39;00m:\n\u001b[1;32m   5431\u001b[0m \u001b[38;5;250m    \u001b[39m\u001b[38;5;124;03m\"\"\"\u001b[39;00m\n\u001b[1;32m   5432\u001b[0m \u001b[38;5;124;03m    Drop specified labels from rows or columns.\u001b[39;00m\n\u001b[1;32m   5433\u001b[0m \n\u001b[0;32m   (...)\u001b[0m\n\u001b[1;32m   5566\u001b[0m \u001b[38;5;124;03m            weight  1.0     0.8\u001b[39;00m\n\u001b[1;32m   5567\u001b[0m \u001b[38;5;124;03m    \"\"\"\u001b[39;00m\n\u001b[0;32m-> 5568\u001b[0m     \u001b[38;5;28;01mreturn\u001b[39;00m \u001b[38;5;28;43msuper\u001b[39;49m\u001b[43m(\u001b[49m\u001b[43m)\u001b[49m\u001b[38;5;241;43m.\u001b[39;49m\u001b[43mdrop\u001b[49m\u001b[43m(\u001b[49m\n\u001b[1;32m   5569\u001b[0m \u001b[43m        \u001b[49m\u001b[43mlabels\u001b[49m\u001b[38;5;241;43m=\u001b[39;49m\u001b[43mlabels\u001b[49m\u001b[43m,\u001b[49m\n\u001b[1;32m   5570\u001b[0m \u001b[43m        \u001b[49m\u001b[43maxis\u001b[49m\u001b[38;5;241;43m=\u001b[39;49m\u001b[43maxis\u001b[49m\u001b[43m,\u001b[49m\n\u001b[1;32m   5571\u001b[0m \u001b[43m        \u001b[49m\u001b[43mindex\u001b[49m\u001b[38;5;241;43m=\u001b[39;49m\u001b[43mindex\u001b[49m\u001b[43m,\u001b[49m\n\u001b[1;32m   5572\u001b[0m \u001b[43m        \u001b[49m\u001b[43mcolumns\u001b[49m\u001b[38;5;241;43m=\u001b[39;49m\u001b[43mcolumns\u001b[49m\u001b[43m,\u001b[49m\n\u001b[1;32m   5573\u001b[0m \u001b[43m        \u001b[49m\u001b[43mlevel\u001b[49m\u001b[38;5;241;43m=\u001b[39;49m\u001b[43mlevel\u001b[49m\u001b[43m,\u001b[49m\n\u001b[1;32m   5574\u001b[0m \u001b[43m        \u001b[49m\u001b[43minplace\u001b[49m\u001b[38;5;241;43m=\u001b[39;49m\u001b[43minplace\u001b[49m\u001b[43m,\u001b[49m\n\u001b[1;32m   5575\u001b[0m \u001b[43m        \u001b[49m\u001b[43merrors\u001b[49m\u001b[38;5;241;43m=\u001b[39;49m\u001b[43merrors\u001b[49m\u001b[43m,\u001b[49m\n\u001b[1;32m   5576\u001b[0m \u001b[43m    \u001b[49m\u001b[43m)\u001b[49m\n",
      "File \u001b[0;32m~/.local/lib/python3.10/site-packages/pandas/core/generic.py:4785\u001b[0m, in \u001b[0;36mNDFrame.drop\u001b[0;34m(self, labels, axis, index, columns, level, inplace, errors)\u001b[0m\n\u001b[1;32m   4783\u001b[0m \u001b[38;5;28;01mfor\u001b[39;00m axis, labels \u001b[38;5;129;01min\u001b[39;00m axes\u001b[38;5;241m.\u001b[39mitems():\n\u001b[1;32m   4784\u001b[0m     \u001b[38;5;28;01mif\u001b[39;00m labels \u001b[38;5;129;01mis\u001b[39;00m \u001b[38;5;129;01mnot\u001b[39;00m \u001b[38;5;28;01mNone\u001b[39;00m:\n\u001b[0;32m-> 4785\u001b[0m         obj \u001b[38;5;241m=\u001b[39m \u001b[43mobj\u001b[49m\u001b[38;5;241;43m.\u001b[39;49m\u001b[43m_drop_axis\u001b[49m\u001b[43m(\u001b[49m\u001b[43mlabels\u001b[49m\u001b[43m,\u001b[49m\u001b[43m \u001b[49m\u001b[43maxis\u001b[49m\u001b[43m,\u001b[49m\u001b[43m \u001b[49m\u001b[43mlevel\u001b[49m\u001b[38;5;241;43m=\u001b[39;49m\u001b[43mlevel\u001b[49m\u001b[43m,\u001b[49m\u001b[43m \u001b[49m\u001b[43merrors\u001b[49m\u001b[38;5;241;43m=\u001b[39;49m\u001b[43merrors\u001b[49m\u001b[43m)\u001b[49m\n\u001b[1;32m   4787\u001b[0m \u001b[38;5;28;01mif\u001b[39;00m inplace:\n\u001b[1;32m   4788\u001b[0m     \u001b[38;5;28mself\u001b[39m\u001b[38;5;241m.\u001b[39m_update_inplace(obj)\n",
      "File \u001b[0;32m~/.local/lib/python3.10/site-packages/pandas/core/generic.py:4827\u001b[0m, in \u001b[0;36mNDFrame._drop_axis\u001b[0;34m(self, labels, axis, level, errors, only_slice)\u001b[0m\n\u001b[1;32m   4825\u001b[0m         new_axis \u001b[38;5;241m=\u001b[39m axis\u001b[38;5;241m.\u001b[39mdrop(labels, level\u001b[38;5;241m=\u001b[39mlevel, errors\u001b[38;5;241m=\u001b[39merrors)\n\u001b[1;32m   4826\u001b[0m     \u001b[38;5;28;01melse\u001b[39;00m:\n\u001b[0;32m-> 4827\u001b[0m         new_axis \u001b[38;5;241m=\u001b[39m \u001b[43maxis\u001b[49m\u001b[38;5;241;43m.\u001b[39;49m\u001b[43mdrop\u001b[49m\u001b[43m(\u001b[49m\u001b[43mlabels\u001b[49m\u001b[43m,\u001b[49m\u001b[43m \u001b[49m\u001b[43merrors\u001b[49m\u001b[38;5;241;43m=\u001b[39;49m\u001b[43merrors\u001b[49m\u001b[43m)\u001b[49m\n\u001b[1;32m   4828\u001b[0m     indexer \u001b[38;5;241m=\u001b[39m axis\u001b[38;5;241m.\u001b[39mget_indexer(new_axis)\n\u001b[1;32m   4830\u001b[0m \u001b[38;5;66;03m# Case for non-unique axis\u001b[39;00m\n\u001b[1;32m   4831\u001b[0m \u001b[38;5;28;01melse\u001b[39;00m:\n",
      "File \u001b[0;32m~/.local/lib/python3.10/site-packages/pandas/core/indexes/base.py:7070\u001b[0m, in \u001b[0;36mIndex.drop\u001b[0;34m(self, labels, errors)\u001b[0m\n\u001b[1;32m   7068\u001b[0m \u001b[38;5;28;01mif\u001b[39;00m mask\u001b[38;5;241m.\u001b[39many():\n\u001b[1;32m   7069\u001b[0m     \u001b[38;5;28;01mif\u001b[39;00m errors \u001b[38;5;241m!=\u001b[39m \u001b[38;5;124m\"\u001b[39m\u001b[38;5;124mignore\u001b[39m\u001b[38;5;124m\"\u001b[39m:\n\u001b[0;32m-> 7070\u001b[0m         \u001b[38;5;28;01mraise\u001b[39;00m \u001b[38;5;167;01mKeyError\u001b[39;00m(\u001b[38;5;124mf\u001b[39m\u001b[38;5;124m\"\u001b[39m\u001b[38;5;132;01m{\u001b[39;00mlabels[mask]\u001b[38;5;241m.\u001b[39mtolist()\u001b[38;5;132;01m}\u001b[39;00m\u001b[38;5;124m not found in axis\u001b[39m\u001b[38;5;124m\"\u001b[39m)\n\u001b[1;32m   7071\u001b[0m     indexer \u001b[38;5;241m=\u001b[39m indexer[\u001b[38;5;241m~\u001b[39mmask]\n\u001b[1;32m   7072\u001b[0m \u001b[38;5;28;01mreturn\u001b[39;00m \u001b[38;5;28mself\u001b[39m\u001b[38;5;241m.\u001b[39mdelete(indexer)\n",
      "\u001b[0;31mKeyError\u001b[0m: \"['to', 'from'] not found in axis\""
     ]
    }
   ],
   "source": [
    "# simulate gt od\n",
    "simulate_od(od_xml, \n",
    "            prefix_output, \n",
    "            base_path, \n",
    "            net_xml, \n",
    "            taz2edge_xml, \n",
    "            additional_xml,\n",
    "            routes_df,\n",
    "            sim_end_time,\n",
    "            TRIPS2ODS_OUT_STR)"
   ]
  },
  {
   "cell_type": "code",
   "execution_count": null,
   "metadata": {},
   "outputs": [],
   "source": [
    "def od_xml_to_df(file_path):\n",
    "\n",
    "    tree = ET.parse(file_path)\n",
    "    root = tree.getroot()\n",
    "    gt_od_df =  xml2df_str(root, 'tazRelation')\n",
    "    \n",
    "    gt_od_vals = gt_od_df['count'].astype(float)\n",
    "    print('total GT demand: ',gt_od_vals.sum())\n",
    "\n",
    "    return gt_od_df"
   ]
  },
  {
   "cell_type": "code",
   "execution_count": null,
   "metadata": {},
   "outputs": [],
   "source": [
    "gt_od_df = od_xml_to_df(file_gt)"
   ]
  },
  {
   "cell_type": "markdown",
   "metadata": {},
   "source": [
    "## Vary OD values adding Gaussian noise"
   ]
  },
  {
   "cell_type": "code",
   "execution_count": null,
   "metadata": {},
   "outputs": [],
   "source": [
    "gt_od_df['count'].astype(float).to_numpy()"
   ]
  },
  {
   "cell_type": "code",
   "execution_count": null,
   "metadata": {},
   "outputs": [],
   "source": [
    "num_epsilon_iter = 10\n",
    "ods_epsilon = []\n",
    "\n",
    "# Base OD which we will update their count entries\n",
    "base_od = gt_od_df.copy()\n",
    "gt_od_vals = gt_od_df['count'].astype(float).to_numpy()\n",
    "\n",
    "for o1 in range(num_epsilon_iter):\n",
    "    print(f\"########### Epsilon {o1} ###########\")\n",
    "\n",
    "    file_od_epsilon_xml = f'gt_od_{gt_version_str}_epsilon{o1}.xml'\n",
    "    prefix_output = f'epsilon{o1}'\n",
    "\n",
    "    # Generate OD\n",
    "    curr_od = gt_od_vals.copy()\n",
    "    curr_od = np.random.normal(gt_od_vals, gt_od_vals/30)\n",
    "\n",
    "    print(f'total expected GT demand: {np.sum(curr_od)}')\n",
    "\n",
    "    ###\n",
    "    # create OD xml file \n",
    "    ###\n",
    "    base_od['count'] = curr_od\n",
    "    # round to 1 decimal point\n",
    "    base_od['count'] = [round(elem, 1) for elem in base_od['count']]     \n",
    "    base_od = base_od.rename(columns={'fromTaz':'from', 'toTaz':'to'})        \n",
    "    create_taz_xml(file_od_epsilon_xml, base_od, od_duration_seconds, base_path)\n",
    "    ods_epsilon.append(curr_od)\n",
    "    \n",
    "    # simulate gt od\n",
    "    simulate_od(file_od_epsilon_xml, \n",
    "                prefix_output, \n",
    "                base_path, \n",
    "                net_xml, \n",
    "                taz2edge_xml, \n",
    "                additional_xml, \n",
    "                routes_df,\n",
    "                sim_end_time,\n",
    "                TRIPS2ODS_OUT_STR)"
   ]
  },
  {
   "cell_type": "code",
   "execution_count": null,
   "metadata": {},
   "outputs": [],
   "source": [
    "num_gt_edges = 10\n",
    "sim_edge_out = f'{base_path}/{prefix_output}_{EDGE_OUT_STR}'\n",
    "df_edge_gt, _, _ = parse_loop_data_xml_to_pandas(base_path, sim_edge_out, prefix_output,SUMO_PATH)\n",
    "\n",
    "df_edge_gt.head()"
   ]
  },
  {
   "cell_type": "code",
   "execution_count": null,
   "metadata": {},
   "outputs": [],
   "source": [
    "gt_edge_data = df_edge_gt\\\n",
    "        .sort_values(by=['interval_nVehContrib'], ascending=False)\\\n",
    "        .iloc[:num_gt_edges]"
   ]
  },
  {
   "cell_type": "code",
   "execution_count": null,
   "metadata": {},
   "outputs": [],
   "source": [
    "edge_epsilon_all = []\n",
    "num_epsilon_iter = 10\n",
    "for o1 in range(num_epsilon_iter):\n",
    "    curr_prefix = f'epsilon{o1}'\n",
    "    sim_edge_out = f'{base_path}/{curr_prefix}_{EDGE_OUT_STR}'\n",
    "    curr_loop_stats, _, _ = parse_loop_data_xml_to_pandas(base_path, sim_edge_out, curr_prefix,SUMO_PATH)\n",
    "    edge_epsilon_all.append(curr_loop_stats)"
   ]
  },
  {
   "cell_type": "code",
   "execution_count": null,
   "metadata": {},
   "outputs": [],
   "source": [
    "loss_all = []\n",
    "for o1 in range(num_epsilon_iter):\n",
    "    curr_loss = compute_nrmse_counts_all_edges(gt_edge_data, edge_epsilon_all[o1])\n",
    "    print(curr_loss)\n",
    "    loss_all.append(curr_loss)\n"
   ]
  },
  {
   "cell_type": "code",
   "execution_count": null,
   "metadata": {},
   "outputs": [],
   "source": [
    "print(\"Number of ODs:\",num_ods)\n",
    "gt_od_df = routes_df[['fromTaz', 'toTaz']].drop_duplicates().iloc[:num_ods]"
   ]
  },
  {
   "cell_type": "code",
   "execution_count": null,
   "metadata": {},
   "outputs": [],
   "source": []
  }
 ],
 "metadata": {
  "kernelspec": {
   "display_name": "Python 3",
   "language": "python",
   "name": "python3"
  },
  "language_info": {
   "codemirror_mode": {
    "name": "ipython",
    "version": 3
   },
   "file_extension": ".py",
   "mimetype": "text/x-python",
   "name": "python",
   "nbconvert_exporter": "python",
   "pygments_lexer": "ipython3",
   "version": "3.10.12"
  }
 },
 "nbformat": 4,
 "nbformat_minor": 2
}
