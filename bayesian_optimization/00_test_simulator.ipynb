{
 "cells": [
  {
   "cell_type": "code",
   "execution_count": null,
   "metadata": {},
   "outputs": [],
   "source": [
    "from helpers import *"
   ]
  },
  {
   "cell_type": "code",
   "execution_count": null,
   "metadata": {},
   "outputs": [],
   "source": [
    "base_path = '..'"
   ]
  },
  {
   "cell_type": "code",
   "execution_count": null,
   "metadata": {},
   "outputs": [],
   "source": [
    "\n",
    "taz2edge_xml = 'taz_new.xml'\n",
    "net_xml = 'SFO.net.xml'\n",
    "fixed_routes_xml = f'{base_path}/5hr_route_choice_set.csv'\n",
    "od_duration_seconds = 5*60 \n",
    "\n",
    "# duration of sample time for simulation output statistics\n",
    "simulation_stat_freq_sec = od_duration_seconds\n",
    "sim_end_time = od_duration_seconds\n",
    "additional_xml = f'additional.add_statfreq{od_duration_seconds}.xml'\n",
    "\n",
    "# suffix of simulation output edge file\n",
    "EDGE_OUT_STR = 'edge_data_SFO.xml'\n",
    "TRIPS2ODS_OUT_STR = 'trips.xml'\n",
    "SUMO_PATH = '/usr/local/opt/sumo/share/sumo'"
   ]
  },
  {
   "cell_type": "code",
   "execution_count": null,
   "metadata": {},
   "outputs": [],
   "source": [
    "gt_version_str = 'v4'\n",
    "\n",
    "\n",
    "# # gt v5:\n",
    "# mean_od_val = 100\n",
    "# num_ods = 100\n",
    "\n",
    "# gt v4:\n",
    "mean_od_val = 100\n",
    "num_ods = 10\n",
    "\n",
    "# # gt v3:\n",
    "# mean_od_val = 0.05\n",
    "\n",
    "# # gt v2:\n",
    "# mean_od_val = 0.5\n",
    "#num_ods = routes_df.shape[0]\n",
    "\n",
    "\n",
    "# # gt v1:\n",
    "# mean_od_val = 100\n",
    "#num_ods = routes_df.shape[0]\n",
    "\n",
    "\n",
    "print('if you want to optimize them all (~86k) set num_ods as defined in commented line below')\n",
    "#num_ods = routes_df.shape[0]"
   ]
  },
  {
   "cell_type": "code",
   "execution_count": null,
   "metadata": {},
   "outputs": [],
   "source": [
    "od_xml = f'gt_od_{gt_version_str}.xml'\n",
    "file_gt = f'{base_path}/gt_od_{gt_version_str}.xml'\n",
    "file_gt_edges = f'{base_path}/gt_edges_{gt_version_str}.csv'\n",
    "prefix_output = f'gt_{gt_version_str}'"
   ]
  },
  {
   "cell_type": "code",
   "execution_count": null,
   "metadata": {},
   "outputs": [],
   "source": [
    "# Get GT OD\n",
    "print(\"Reading:\",file_gt)\n",
    "tree = ET.parse(file_gt)\n",
    "root = tree.getroot()\n",
    "gt_od_df =  xml2df_str(root, 'tazRelation')\n",
    "\n",
    "gt_od_df.head()"
   ]
  },
  {
   "cell_type": "code",
   "execution_count": null,
   "metadata": {},
   "outputs": [],
   "source": [
    "print(\"Reading:\",fixed_routes_xml)\n",
    "routes_df = pd.read_csv(fixed_routes_xml, index_col=0)"
   ]
  },
  {
   "cell_type": "code",
   "execution_count": null,
   "metadata": {},
   "outputs": [],
   "source": [
    "od_xml"
   ]
  },
  {
   "cell_type": "code",
   "execution_count": null,
   "metadata": {},
   "outputs": [],
   "source": [
    "prefix_output"
   ]
  },
  {
   "cell_type": "code",
   "execution_count": null,
   "metadata": {},
   "outputs": [],
   "source": [
    "# simulate gt od\n",
    "simulate_od(od_xml, \n",
    "            prefix_output, \n",
    "            base_path, \n",
    "            net_xml, \n",
    "            taz2edge_xml, \n",
    "            additional_xml,\n",
    "            routes_df,\n",
    "            sim_end_time,\n",
    "            TRIPS2ODS_OUT_STR)"
   ]
  },
  {
   "cell_type": "code",
   "execution_count": null,
   "metadata": {},
   "outputs": [],
   "source": [
    "def od_xml_to_df(file_path):\n",
    "\n",
    "    tree = ET.parse(file_path)\n",
    "    root = tree.getroot()\n",
    "    gt_od_df =  xml2df_str(root, 'tazRelation')\n",
    "    \n",
    "    gt_od_vals = gt_od_df['count'].astype(float)\n",
    "    print('total GT demand: ',gt_od_vals.sum())\n",
    "\n",
    "    return gt_od_df"
   ]
  },
  {
   "cell_type": "code",
   "execution_count": null,
   "metadata": {},
   "outputs": [],
   "source": [
    "gt_od_df = od_xml_to_df(file_gt)"
   ]
  },
  {
   "cell_type": "markdown",
   "metadata": {},
   "source": [
    "## Vary OD values adding Gaussian noise"
   ]
  },
  {
   "cell_type": "code",
   "execution_count": null,
   "metadata": {},
   "outputs": [],
   "source": [
    "gt_od_df['count'].astype(float).to_numpy()"
   ]
  },
  {
   "cell_type": "code",
   "execution_count": null,
   "metadata": {},
   "outputs": [],
   "source": [
    "num_epsilon_iter = 10\n",
    "ods_epsilon = []\n",
    "\n",
    "# Base OD which we will update their count entries\n",
    "base_od = gt_od_df.copy()\n",
    "gt_od_vals = gt_od_df['count'].astype(float).to_numpy()\n",
    "\n",
    "for o1 in range(num_epsilon_iter):\n",
    "    print(f\"########### Epsilon {o1} ###########\")\n",
    "\n",
    "    file_od_epsilon_xml = f'gt_od_{gt_version_str}_epsilon{o1}.xml'\n",
    "    prefix_output = f'epsilon{o1}'\n",
    "\n",
    "    # Generate OD\n",
    "    curr_od = gt_od_vals.copy()\n",
    "    curr_od = np.random.normal(gt_od_vals, gt_od_vals/30)\n",
    "\n",
    "    print(f'total expected GT demand: {np.sum(curr_od)}')\n",
    "\n",
    "    ###\n",
    "    # create OD xml file \n",
    "    ###\n",
    "    base_od['count'] = curr_od\n",
    "    # round to 1 decimal point\n",
    "    base_od['count'] = [round(elem, 1) for elem in base_od['count']]     \n",
    "    base_od = base_od.rename(columns={'fromTaz':'from', 'toTaz':'to'})        \n",
    "    create_taz_xml(file_od_epsilon_xml, base_od, od_duration_seconds, base_path)\n",
    "    ods_epsilon.append(curr_od)\n",
    "    \n",
    "    # simulate gt od\n",
    "    simulate_od(file_od_epsilon_xml, \n",
    "                prefix_output, \n",
    "                base_path, \n",
    "                net_xml, \n",
    "                taz2edge_xml, \n",
    "                additional_xml, \n",
    "                routes_df,\n",
    "                sim_end_time,\n",
    "                TRIPS2ODS_OUT_STR)"
   ]
  },
  {
   "cell_type": "code",
   "execution_count": null,
   "metadata": {},
   "outputs": [],
   "source": [
    "num_gt_edges = 10\n",
    "sim_edge_out = f'{base_path}/{prefix_output}_{EDGE_OUT_STR}'\n",
    "df_edge_gt, _, _ = parse_loop_data_xml_to_pandas(base_path, sim_edge_out, prefix_output,SUMO_PATH)\n",
    "\n",
    "df_edge_gt.head()"
   ]
  },
  {
   "cell_type": "code",
   "execution_count": null,
   "metadata": {},
   "outputs": [],
   "source": [
    "gt_edge_data = df_edge_gt\\\n",
    "        .sort_values(by=['interval_nVehContrib'], ascending=False)\\\n",
    "        .iloc[:num_gt_edges]"
   ]
  },
  {
   "cell_type": "code",
   "execution_count": null,
   "metadata": {},
   "outputs": [],
   "source": [
    "edge_epsilon_all = []\n",
    "num_epsilon_iter = 10\n",
    "for o1 in range(num_epsilon_iter):\n",
    "    curr_prefix = f'epsilon{o1}'\n",
    "    sim_edge_out = f'{base_path}/{curr_prefix}_{EDGE_OUT_STR}'\n",
    "    curr_loop_stats, _, _ = parse_loop_data_xml_to_pandas(base_path, sim_edge_out, curr_prefix,SUMO_PATH)\n",
    "    edge_epsilon_all.append(curr_loop_stats)"
   ]
  },
  {
   "cell_type": "code",
   "execution_count": null,
   "metadata": {},
   "outputs": [],
   "source": [
    "loss_all = []\n",
    "for o1 in range(num_epsilon_iter):\n",
    "    curr_loss = compute_nrmse_counts_all_edges(gt_edge_data, edge_epsilon_all[o1])\n",
    "    print(curr_loss)\n",
    "    loss_all.append(curr_loss)\n"
   ]
  },
  {
   "cell_type": "code",
   "execution_count": null,
   "metadata": {},
   "outputs": [],
   "source": [
    "print(\"Number of ODs:\",num_ods)\n",
    "gt_od_df = routes_df[['fromTaz', 'toTaz']].drop_duplicates().iloc[:num_ods]"
   ]
  },
  {
   "cell_type": "code",
   "execution_count": null,
   "metadata": {},
   "outputs": [],
   "source": []
  }
 ],
 "metadata": {
  "kernelspec": {
   "display_name": "BoTorch",
   "language": "python",
   "name": "botorch"
  },
  "language_info": {
   "codemirror_mode": {
    "name": "ipython",
    "version": 3
   },
   "file_extension": ".py",
   "mimetype": "text/x-python",
   "name": "python",
   "nbconvert_exporter": "python",
   "pygments_lexer": "ipython3",
   "version": "3.9.11"
  }
 },
 "nbformat": 4,
 "nbformat_minor": 2
}
