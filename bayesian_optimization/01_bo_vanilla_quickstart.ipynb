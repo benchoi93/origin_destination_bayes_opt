{
 "cells": [
  {
   "cell_type": "code",
   "execution_count": 1,
   "metadata": {},
   "outputs": [],
   "source": [
    "import torch\n",
    "import os\n",
    "import numpy as np\n",
    "import pandas as pd\n",
    "import xml.etree.ElementTree as ET\n",
    "\n",
    "import matplotlib.pyplot as plt\n",
    "from pathlib import Path\n",
    "\n",
    "from torch.quasirandom import SobolEngine\n",
    "\n",
    "from gpytorch.mlls import ExactMarginalLogLikelihood\n",
    "from gpytorch.likelihoods import GaussianLikelihood\n",
    "from gpytorch.kernels import MaternKernel, ScaleKernel\n",
    "from gpytorch.constraints import Interval\n",
    "\n",
    "from botorch import fit_gpytorch_mll\n",
    "from botorch.utils.transforms import unnormalize, normalize\n",
    "from botorch.models import SingleTaskGP\n",
    "from botorch.models.transforms import Standardize\n",
    "from botorch.optim import optimize_acqf\n",
    "from botorch.acquisition import qLogExpectedImprovement\n",
    "from botorch.sampling.stochastic_samplers import StochasticSampler\n",
    "\n",
    "from helpers import (load_experiment_metadata, \n",
    "                    compute_nrmse_counts_all_edges, \n",
    "                    parse_loop_data_xml_to_pandas, \n",
    "                    create_taz_xml,\n",
    "                    simulate_od,\n",
    "                    od_xml_to_df,\n",
    "                    xml2df_str)\n"
   ]
  },
  {
   "cell_type": "code",
   "execution_count": 2,
   "metadata": {},
   "outputs": [
    {
     "name": "stdout",
     "output_type": "stream",
     "text": [
      "/Users/chois/Gitsrcs/origin_destination_bayes_opt/bayesian_optimization\n"
     ]
    }
   ],
   "source": [
    "!Pwd"
   ]
  },
  {
   "cell_type": "markdown",
   "metadata": {},
   "source": []
  },
  {
   "cell_type": "code",
   "execution_count": 3,
   "metadata": {},
   "outputs": [],
   "source": [
    "# base_path = \"/home/bench/Gitsrcs/origin_destination_bayes_opt\"\n",
    "# base_path = \"/Users/osorio/HEC/Research/Group/FacultyCollaborations/SeongjinChoi_UMN/Code_BO/origin_destination_bayes_opt-main\"\n",
    "base_path = \"/Users/chois/Gitsrcs/origin_destination_bayes_opt\"\n",
    "os.chdir(base_path)"
   ]
  },
  {
   "cell_type": "code",
   "execution_count": 4,
   "metadata": {},
   "outputs": [
    {
     "name": "stdout",
     "output_type": "stream",
     "text": [
      "config_path: /Users/chois/Gitsrcs/origin_destination_bayes_opt/config\n"
     ]
    }
   ],
   "source": [
    "config_path = Path(base_path , 'config')\n",
    "print(f\"config_path: {config_path}\")\n",
    "\n",
    "config, sim_setup = load_experiment_metadata(config_path)\n",
    "\n",
    "network_name = sim_setup['network_name']\n",
    "model_name = sim_setup['model_name']\n",
    "\n",
    "network_path = Path(\"network\" , network_name)\n",
    "taz2edge_xml = Path(base_path, network_path, 'taz.xml')\n",
    "net_xml = Path(base_path, network_path, 'net.xml')\n",
    "fixed_routes = Path(base_path, network_path, 'routes.csv')\n",
    "file_gt_od = Path(base_path, network_path, 'od.xml')\n",
    "additional_xml = Path(base_path, network_path, 'additional.xml')\n",
    "\n",
    "out_path = f\"output/{network_name}_{model_name}\" \n",
    "Path(out_path).mkdir(parents=True, exist_ok=True)\n",
    "\n",
    "gt_version_str = network_name           ## TODO : need to check if this is correct\n",
    "\n",
    "EDGE_OUT_STR = f'edge_data_{network_name}.xml'\n",
    "# suffix of simulation output edge file\n",
    "TRIPS2ODS_OUT_STR = 'trips.xml'\n",
    "SUMO_PATH = config[\"SUMO\"]\n",
    "\n",
    "sim_start_time = sim_setup['sim_start_time']\n",
    "sim_end_time = sim_setup['sim_end_time']\n",
    "sim_stat_freq_sec = sim_setup['sim_stat_freq_sec']\n",
    "od_duration_sec = sim_setup['od_duration_sec']\n",
    "\n",
    "n_init_search = sim_setup['n_init_search']\n",
    "\n",
    "NITER = sim_setup[\"BO_niter\"]\n",
    "BATCH_SIZE = sim_setup[\"BO_batch_size\"]\n",
    "NUM_RESTARTS = sim_setup[\"BO_num_restarts\"]\n",
    "RAW_SAMPLES = sim_setup[\"BO_raw_samples\"] \n",
    "\n"
   ]
  },
  {
   "cell_type": "code",
   "execution_count": 5,
   "metadata": {},
   "outputs": [],
   "source": [
    "\n",
    "# # taz2edge_xml = 'taz_new.xml'\n",
    "# # net_xml = 'SFO.net.xml'\n",
    "# # fixed_routes_xml = f'{base_path}/5hr_route_choice_set.csv'\n",
    "# # od_duration_seconds = 5*60 \n",
    "\n",
    "# # # duration of sample time for simulation output statistics\n",
    "# # simulation_stat_freq_sec = od_duration_seconds\n",
    "# # sim_end_time = od_duration_seconds\n",
    "# # additional_xml = f'additional.add_statfreq{od_duration_seconds}.xml'\n",
    "\n",
    "# # # suffix of simulation output edge file\n",
    "# # EDGE_OUT_STR = 'edge_data_SFO.xml'\n",
    "# # TRIPS2ODS_OUT_STR = 'trips.xml'\n",
    "# # SUMO_PATH = '/usr/local/opt/sumo/share/sumo'\n",
    "\n",
    "# od_duration_seconds = 30*60 \n",
    "\n",
    "# # duration of sample time for simulation output statistics\n",
    "# simulation_stat_freq_sec = od_duration_seconds\n",
    "# sim_end_time = od_duration_seconds\n",
    "\n",
    "# # TODO: it might be cleaner to replace this with a config file, i attached to my email an example. and one can define one config file per network. \n",
    "# network_name = \"quickstart\"\n",
    "# model_name = \"bo_vanilla\"\n",
    "\n",
    "# network_path = f\"network/{network_name}\"\n",
    "# taz2edge_xml = f\"{base_path}/{network_path}/taz.xml\"\n",
    "# net_xml = f\"{base_path}/{network_path}/net.xml\"\n",
    "# fixed_routes = f\"{base_path}/{network_path}/routes.csv\"\n",
    "# # od_xml = f\"{network_path}/od.xml\"       ## TODO : need to check if this is correct\n",
    "# file_gt_od = f\"{base_path}/{network_path}/od.xml\"      ## TODO : need to check if this is correct\n",
    "# # file_gt_edges                         ## TODO : need to check if this is necessary (not being used below)\n",
    "# additional_xml = f\"{base_path}/{network_path}/additional.xml\"\n",
    "# out_path = f\"output/{network_name}_{model_name}\"\n",
    "# out_path = f\"output/{network_name}_{model_name}\"       ## TODO : need to check if this is correct\n",
    "# # prefix_output = f\"{out_path}/out\"     ## TODO : need to check if this is correct\n",
    "# gt_version_str = network_name           ## TODO : need to check if this is correct\n",
    "\n",
    "# EDGE_OUT_STR = f'edge_data_{network_name}.xml'\n",
    "# # suffix of simulation output edge file\n",
    "# TRIPS2ODS_OUT_STR = 'trips.xml'\n",
    "# # TODO I changed this path for it to work for me.\n",
    "# SUMO_PATH = '/opt/homebrew/opt/sumo/share/sumo'\n",
    "# #SUMO_PATH = \"/usr/share/sumo\"\n",
    "\n",
    "# Path(out_path).mkdir(parents=True, exist_ok=True)\n",
    "\n",
    "\n"
   ]
  },
  {
   "cell_type": "code",
   "execution_count": 6,
   "metadata": {},
   "outputs": [
    {
     "name": "stdout",
     "output_type": "stream",
     "text": [
      "if you want to optimize them all (~86k) set num_ods as defined in commented line below\n"
     ]
    }
   ],
   "source": [
    "gt_version_str = 'v4'\n",
    "\n",
    "# gt v4:\n",
    "mean_od_val = 100\n",
    "num_ods = 10\n",
    "\n",
    "print('if you want to optimize them all (~86k) set num_ods as defined in commented line below')\n",
    "#num_ods = routes_df.shape[0]"
   ]
  },
  {
   "cell_type": "code",
   "execution_count": 7,
   "metadata": {},
   "outputs": [],
   "source": [
    "# od_xml = f'gt_od_{gt_version_str}.xml'\n",
    "# file_gt = f'{base_path}/gt_od_{gt_version_str}.xml'\n",
    "# file_gt_edges = f'{base_path}/gt_edges_{gt_version_str}.csv'\n",
    "# prefix_output_gt = f'gt_{gt_version_str}'"
   ]
  },
  {
   "cell_type": "code",
   "execution_count": 8,
   "metadata": {},
   "outputs": [
    {
     "name": "stdout",
     "output_type": "stream",
     "text": [
      "Reading: /Users/chois/Gitsrcs/origin_destination_bayes_opt/network/quickstart/od.xml\n"
     ]
    },
    {
     "data": {
      "text/html": [
       "<div>\n",
       "<style scoped>\n",
       "    .dataframe tbody tr th:only-of-type {\n",
       "        vertical-align: middle;\n",
       "    }\n",
       "\n",
       "    .dataframe tbody tr th {\n",
       "        vertical-align: top;\n",
       "    }\n",
       "\n",
       "    .dataframe thead th {\n",
       "        text-align: right;\n",
       "    }\n",
       "</style>\n",
       "<table border=\"1\" class=\"dataframe\">\n",
       "  <thead>\n",
       "    <tr style=\"text-align: right;\">\n",
       "      <th></th>\n",
       "      <th>from</th>\n",
       "      <th>to</th>\n",
       "      <th>count</th>\n",
       "      <th>data</th>\n",
       "    </tr>\n",
       "  </thead>\n",
       "  <tbody>\n",
       "    <tr>\n",
       "      <th>0</th>\n",
       "      <td>taz91</td>\n",
       "      <td>taz93</td>\n",
       "      <td>500</td>\n",
       "      <td>None</td>\n",
       "    </tr>\n",
       "    <tr>\n",
       "      <th>1</th>\n",
       "      <td>taz91</td>\n",
       "      <td>taz94</td>\n",
       "      <td>500</td>\n",
       "      <td>None</td>\n",
       "    </tr>\n",
       "    <tr>\n",
       "      <th>2</th>\n",
       "      <td>taz92</td>\n",
       "      <td>taz93</td>\n",
       "      <td>900</td>\n",
       "      <td>None</td>\n",
       "    </tr>\n",
       "    <tr>\n",
       "      <th>3</th>\n",
       "      <td>taz92</td>\n",
       "      <td>taz94</td>\n",
       "      <td>900</td>\n",
       "      <td>None</td>\n",
       "    </tr>\n",
       "  </tbody>\n",
       "</table>\n",
       "</div>"
      ],
      "text/plain": [
       "    from     to count  data\n",
       "0  taz91  taz93   500  None\n",
       "1  taz91  taz94   500  None\n",
       "2  taz92  taz93   900  None\n",
       "3  taz92  taz94   900  None"
      ]
     },
     "execution_count": 8,
     "metadata": {},
     "output_type": "execute_result"
    }
   ],
   "source": [
    "# Get GT OD\n",
    "print(\"Reading:\",file_gt_od)\n",
    "tree = ET.parse(file_gt_od)\n",
    "root = tree.getroot()\n",
    "gt_od_df =  xml2df_str(root, 'tazRelation')\n",
    "\n",
    "gt_od_df.head()"
   ]
  },
  {
   "cell_type": "code",
   "execution_count": 9,
   "metadata": {},
   "outputs": [
    {
     "name": "stdout",
     "output_type": "stream",
     "text": [
      "Reading: /Users/chois/Gitsrcs/origin_destination_bayes_opt/network/quickstart/routes.csv\n"
     ]
    }
   ],
   "source": [
    "print(\"Reading:\",fixed_routes)\n",
    "routes_df = pd.read_csv(fixed_routes, index_col=0)"
   ]
  },
  {
   "cell_type": "code",
   "execution_count": 10,
   "metadata": {},
   "outputs": [
    {
     "name": "stdout",
     "output_type": "stream",
     "text": [
      "total GT demand:  2800.0\n"
     ]
    }
   ],
   "source": [
    "gt_od_df = od_xml_to_df(file_gt_od)"
   ]
  },
  {
   "cell_type": "code",
   "execution_count": 11,
   "metadata": {},
   "outputs": [
    {
     "data": {
      "text/plain": [
       "Index(['from', 'to', 'count', 'data'], dtype='object')"
      ]
     },
     "execution_count": 11,
     "metadata": {},
     "output_type": "execute_result"
    }
   ],
   "source": [
    "gt_od_df.columns"
   ]
  },
  {
   "cell_type": "markdown",
   "metadata": {},
   "source": [
    "## Vanilla BO\n"
   ]
  },
  {
   "cell_type": "markdown",
   "metadata": {},
   "source": [
    "### Declare parameter space\n"
   ]
  },
  {
   "cell_type": "code",
   "execution_count": 12,
   "metadata": {},
   "outputs": [
    {
     "name": "stdout",
     "output_type": "stream",
     "text": [
      "cpu\n"
     ]
    },
    {
     "data": {
      "text/plain": [
       "tensor([[   0.,    0.,    0.,    0.],\n",
       "        [2000., 2000., 2000., 2000.]], dtype=torch.float64)"
      ]
     },
     "execution_count": 12,
     "metadata": {},
     "output_type": "execute_result"
    }
   ],
   "source": [
    "# TODO: let's put all import  statements at the top of the notebook\n",
    "\n",
    "device = torch.device(\"cuda:0\" if torch.cuda.is_available() else \"cpu\")\n",
    "print(device)\n",
    "dtype = torch.double\n",
    "\n",
    "### Declare search space\n",
    "# dimensionality of input space\n",
    "\n",
    "dim_od = gt_od_df.shape[0]\n",
    "\n",
    "#bounds = torch.tensor([\n",
    "#    [ gt_od_df['count'].astype(float).min() - 2 for _ in range(dim_od)],\n",
    "#    [ gt_od_df['count'].astype(float).max() + 2 for _ in range(dim_od)]\n",
    "#], device=device, dtype=dtype) \n",
    "\n",
    "bounds = torch.tensor([\n",
    "    [ 0 for _ in range(dim_od)],\n",
    "    [ 2000 for _ in range(dim_od)]\n",
    "], device=device, dtype=dtype) \n",
    "\n",
    "\n",
    "bounds\n",
    "\n"
   ]
  },
  {
   "cell_type": "markdown",
   "metadata": {},
   "source": [
    "Run GT simulation\n"
   ]
  },
  {
   "cell_type": "code",
   "execution_count": 13,
   "metadata": {},
   "outputs": [
    {
     "name": "stdout",
     "output_type": "stream",
     "text": [
      "Created  /Users/chois/Gitsrcs/origin_destination_bayes_opt/output/quickstart_bo_vanilla/ground_truth/od.xml\n",
      "    from     to  count  data\n",
      "0  taz91  taz93  500.0  None\n",
      "1  taz91  taz94  500.0  None\n",
      "2  taz92  taz93  900.0  None\n",
      "3  taz92  taz94  900.0  None\n",
      "od2trips  --spread.uniform --taz-files /Users/chois/Gitsrcs/origin_destination_bayes_opt/network/quickstart/taz.xml --tazrelation-files output/quickstart_bo_vanilla/ground_truth/od.xml -o /Users/chois/Gitsrcs/origin_destination_bayes_opt/output/quickstart_bo_vanilla/ground_truth/sim_trips_beforeRteUpdates.xml\n",
      "Success.time 299.17\n",
      "###### Running SUMO #######\n",
      "Seed 0\n",
      "sumo --output-prefix output/quickstart_bo_vanilla/ground_truth/sim_ --ignore-route-errors=true --net-file=/Users/chois/Gitsrcs/origin_destination_bayes_opt/network/quickstart/net.xml --routes=/Users/chois/Gitsrcs/origin_destination_bayes_opt/output/quickstart_bo_vanilla/ground_truth/sim_trips.xml -b 0 -e 57600 --additional-files /Users/chois/Gitsrcs/origin_destination_bayes_opt/network/quickstart/additional.xml --duration-log.statistics --xml-validation never --vehroutes routes.vehroutes.xml --verbose --no-warnings --mesosim true --seed 0\n",
      "Loading net-file from '/Users/chois/Gitsrcs/origin_destination_bayes_opt/network/quickstart/net.xml' ... done (3ms).\n",
      "Loading additional-files from '/Users/chois/Gitsrcs/origin_destination_bayes_opt/network/quickstart/additional.xml' ... done (2ms).\n",
      "Loading done.\n",
      "Simulation version 1.20.0 started with time: 0.00.\n"
     ]
    },
    {
     "name": "stderr",
     "output_type": "stream",
     "text": [
      "Warning: Could not set locale to 'C'.\n",
      "Warning: Could not set locale to 'C'.\n"
     ]
    },
    {
     "name": "stdout",
     "output_type": "stream",
     "text": [
      "Step #57600.00 (0ms ?*RT. ?UPS, vehicles TOT 2800 ACT 0 BUF 0)                            \n",
      "Simulation ended at time: 57600.00\n",
      "Reason: The final simulation step has been reached.\n",
      "Performance: \n",
      " Duration: 0.68s\n",
      " Real time factor: 84705.9\n",
      " UPS: 1718067.647059\n",
      "Vehicles: \n",
      " Inserted: 2800\n",
      " Running: 0\n",
      " Waiting: 0\n",
      "Statistics (avg of 2800):\n",
      " RouteLength: 4459.95\n",
      " Speed: 10.71\n",
      " Duration: 417.25\n",
      " WaitingTime: 0.36\n",
      " TimeLoss: 91.33\n",
      " DepartDelay: 693.70\n",
      "\n",
      "DijkstraRouter answered 5435 queries and explored 10.94 edges on average.\n",
      "DijkstraRouter spent 0.00s answering queries (0.00ms on average).\n"
     ]
    }
   ],
   "source": [
    "simulation_run_path =f'{out_path}'\n",
    "simulation_gt_run_path =f'{out_path}/ground_truth'\n",
    "Path(simulation_gt_run_path).mkdir(parents=True, exist_ok=True)\n",
    "prefix_output_gt = f'{simulation_gt_run_path}/sim'\n",
    "\n",
    "sim_edge_out_gt = f'{prefix_output_gt}_{EDGE_OUT_STR}'\n",
    "new_od_xml = f'{simulation_gt_run_path}/od.xml'\n",
    "\n",
    "base_od = gt_od_df.copy()\n",
    "gt_od_vals = gt_od_df['count'].astype(float).to_numpy()\n",
    "curr_od = gt_od_vals.copy()\n",
    "base_od['count'] = curr_od\n",
    "base_od = base_od.rename(columns={'fromTaz':'from', 'toTaz':'to'})        \n",
    "create_taz_xml(new_od_xml, base_od, od_duration_sec, base_path)\n",
    "\n",
    "print(base_od)\n",
    "\n",
    "# Run simulation\n",
    "\n",
    "simulate_od(new_od_xml, \n",
    "            prefix_output_gt, \n",
    "            base_path, \n",
    "            net_xml, \n",
    "            taz2edge_xml, \n",
    "            additional_xml,\n",
    "            routes_df,\n",
    "            sim_end_time,\n",
    "            TRIPS2ODS_OUT_STR)\n",
    "\n"
   ]
  },
  {
   "cell_type": "markdown",
   "metadata": {},
   "source": [
    "Read output of GT simulation\n"
   ]
  },
  {
   "cell_type": "code",
   "execution_count": 14,
   "metadata": {},
   "outputs": [
    {
     "name": "stdout",
     "output_type": "stream",
     "text": [
      "Number of GT edges: 14\n"
     ]
    }
   ],
   "source": [
    "df_edge_gt, _, _ = parse_loop_data_xml_to_pandas(base_path, sim_edge_out_gt, prefix_output_gt,SUMO_PATH)\n",
    "# picking at edges as GT edges\n",
    "num_gt_edges = df_edge_gt.shape[0]\n",
    "print(\"Number of GT edges:\",num_gt_edges)\n",
    "gt_edge_data = df_edge_gt\\\n",
    "    .sort_values(by=['interval_nVehContrib'], ascending=False)\\\n",
    "    .iloc[:num_gt_edges]\n",
    "\n",
    "# gt_edge_data.shape\n"
   ]
  },
  {
   "cell_type": "code",
   "execution_count": 15,
   "metadata": {},
   "outputs": [
    {
     "data": {
      "text/html": [
       "<div>\n",
       "<style scoped>\n",
       "    .dataframe tbody tr th:only-of-type {\n",
       "        vertical-align: middle;\n",
       "    }\n",
       "\n",
       "    .dataframe tbody tr th {\n",
       "        vertical-align: top;\n",
       "    }\n",
       "\n",
       "    .dataframe thead th {\n",
       "        text-align: right;\n",
       "    }\n",
       "</style>\n",
       "<table border=\"1\" class=\"dataframe\">\n",
       "  <thead>\n",
       "    <tr style=\"text-align: right;\">\n",
       "      <th></th>\n",
       "      <th>edge_id</th>\n",
       "      <th>interval_nVehContrib</th>\n",
       "      <th>interval_harmonicMeanSpeed</th>\n",
       "    </tr>\n",
       "  </thead>\n",
       "  <tbody>\n",
       "    <tr>\n",
       "      <th>1</th>\n",
       "      <td>D4</td>\n",
       "      <td>1800.0</td>\n",
       "      <td>8.527143</td>\n",
       "    </tr>\n",
       "    <tr>\n",
       "      <th>6</th>\n",
       "      <td>L14</td>\n",
       "      <td>1800.0</td>\n",
       "      <td>11.386250</td>\n",
       "    </tr>\n",
       "    <tr>\n",
       "      <th>11</th>\n",
       "      <td>L4</td>\n",
       "      <td>1800.0</td>\n",
       "      <td>9.915000</td>\n",
       "    </tr>\n",
       "    <tr>\n",
       "      <th>2</th>\n",
       "      <td>D5</td>\n",
       "      <td>1400.0</td>\n",
       "      <td>11.488750</td>\n",
       "    </tr>\n",
       "    <tr>\n",
       "      <th>3</th>\n",
       "      <td>D7</td>\n",
       "      <td>1400.0</td>\n",
       "      <td>11.294444</td>\n",
       "    </tr>\n",
       "    <tr>\n",
       "      <th>4</th>\n",
       "      <td>L10</td>\n",
       "      <td>1400.0</td>\n",
       "      <td>11.441250</td>\n",
       "    </tr>\n",
       "    <tr>\n",
       "      <th>9</th>\n",
       "      <td>L18</td>\n",
       "      <td>1400.0</td>\n",
       "      <td>11.635000</td>\n",
       "    </tr>\n",
       "    <tr>\n",
       "      <th>12</th>\n",
       "      <td>L5</td>\n",
       "      <td>1400.0</td>\n",
       "      <td>11.353750</td>\n",
       "    </tr>\n",
       "    <tr>\n",
       "      <th>13</th>\n",
       "      <td>L7</td>\n",
       "      <td>1400.0</td>\n",
       "      <td>11.046667</td>\n",
       "    </tr>\n",
       "    <tr>\n",
       "      <th>0</th>\n",
       "      <td>D2</td>\n",
       "      <td>1000.0</td>\n",
       "      <td>8.445000</td>\n",
       "    </tr>\n",
       "    <tr>\n",
       "      <th>5</th>\n",
       "      <td>L12</td>\n",
       "      <td>1000.0</td>\n",
       "      <td>11.410000</td>\n",
       "    </tr>\n",
       "    <tr>\n",
       "      <th>10</th>\n",
       "      <td>L2</td>\n",
       "      <td>1000.0</td>\n",
       "      <td>10.498000</td>\n",
       "    </tr>\n",
       "    <tr>\n",
       "      <th>8</th>\n",
       "      <td>L16</td>\n",
       "      <td>900.0</td>\n",
       "      <td>11.863750</td>\n",
       "    </tr>\n",
       "    <tr>\n",
       "      <th>7</th>\n",
       "      <td>L15</td>\n",
       "      <td>500.0</td>\n",
       "      <td>12.054000</td>\n",
       "    </tr>\n",
       "  </tbody>\n",
       "</table>\n",
       "</div>"
      ],
      "text/plain": [
       "   edge_id  interval_nVehContrib  interval_harmonicMeanSpeed\n",
       "1       D4                1800.0                    8.527143\n",
       "6      L14                1800.0                   11.386250\n",
       "11      L4                1800.0                    9.915000\n",
       "2       D5                1400.0                   11.488750\n",
       "3       D7                1400.0                   11.294444\n",
       "4      L10                1400.0                   11.441250\n",
       "9      L18                1400.0                   11.635000\n",
       "12      L5                1400.0                   11.353750\n",
       "13      L7                1400.0                   11.046667\n",
       "0       D2                1000.0                    8.445000\n",
       "5      L12                1000.0                   11.410000\n",
       "10      L2                1000.0                   10.498000\n",
       "8      L16                 900.0                   11.863750\n",
       "7      L15                 500.0                   12.054000"
      ]
     },
     "execution_count": 15,
     "metadata": {},
     "output_type": "execute_result"
    }
   ],
   "source": [
    "gt_edge_data"
   ]
  },
  {
   "cell_type": "code",
   "execution_count": 16,
   "metadata": {},
   "outputs": [
    {
     "data": {
      "text/plain": [
       "tensor([[1865.2651,  181.1591, 1428.0944, 1091.5297],\n",
       "        [ 879.8637, 1058.0540,  326.9777,  404.4355],\n",
       "        [ 121.3165,  769.1731, 1654.9145, 1942.8804],\n",
       "        [1139.4370, 1891.9119,  599.7792,  505.9806],\n",
       "        [1289.0557,  734.8650,   27.9299,  841.2074],\n",
       "        [ 458.0566, 1611.7675, 1222.7355, 1655.2461],\n",
       "        [ 544.7248,  338.5150,  801.1706,  192.7448],\n",
       "        [1718.0125, 1461.2461, 1950.1169, 1256.6044],\n",
       "        [1572.5164,  903.8548,  935.9611, 1504.2888],\n",
       "        [ 680.3711, 1780.7593, 1819.2214,  945.2893]], dtype=torch.float64)"
      ]
     },
     "execution_count": 16,
     "metadata": {},
     "output_type": "execute_result"
    }
   ],
   "source": [
    "# Sample according to Sobol\n",
    "sobol = SobolEngine(dim_od, scramble=True)\n",
    "x_0 = sobol.draw(n_init_search).to(dtype=dtype).to(device)\n",
    "\n",
    "# map the normalized into the original parameter space\n",
    "train_X0 = unnormalize(x_0, bounds)\n",
    "train_X0"
   ]
  },
  {
   "cell_type": "code",
   "execution_count": 17,
   "metadata": {},
   "outputs": [
    {
     "name": "stdout",
     "output_type": "stream",
     "text": [
      "########### OD: 0 ###########\n",
      "[1865.265130996704, 181.1590939760208, 1428.0943870544434, 1091.5297269821167]\n",
      "total expected GT demand: 4566.048339009285\n",
      "Created  /Users/chois/Gitsrcs/origin_destination_bayes_opt/output/quickstart_bo_vanilla/initial_search/gt_od_v4_0.xml\n",
      "od2trips  --spread.uniform --taz-files /Users/chois/Gitsrcs/origin_destination_bayes_opt/network/quickstart/taz.xml --tazrelation-files output/quickstart_bo_vanilla/initial_search/gt_od_v4_0.xml -o /Users/chois/Gitsrcs/origin_destination_bayes_opt/output/quickstart_bo_vanilla/initial_search/sobol_0_trips_beforeRteUpdates.xml\n",
      "Success.time 298.95\n",
      "###### Running SUMO #######\n",
      "Seed 0\n",
      "sumo --output-prefix output/quickstart_bo_vanilla/initial_search/sobol_0_ --ignore-route-errors=true --net-file=/Users/chois/Gitsrcs/origin_destination_bayes_opt/network/quickstart/net.xml --routes=/Users/chois/Gitsrcs/origin_destination_bayes_opt/output/quickstart_bo_vanilla/initial_search/sobol_0_trips.xml -b 0 -e 57600 --additional-files /Users/chois/Gitsrcs/origin_destination_bayes_opt/network/quickstart/additional.xml --duration-log.statistics --xml-validation never --vehroutes routes.vehroutes.xml --verbose --no-warnings --mesosim true --seed 0\n"
     ]
    },
    {
     "name": "stderr",
     "output_type": "stream",
     "text": [
      "Warning: Could not set locale to 'C'.\n",
      "Warning: Could not set locale to 'C'.\n"
     ]
    },
    {
     "name": "stdout",
     "output_type": "stream",
     "text": [
      "Loading net-file from '/Users/chois/Gitsrcs/origin_destination_bayes_opt/network/quickstart/net.xml' ... done (3ms).\n",
      "Loading additional-files from '/Users/chois/Gitsrcs/origin_destination_bayes_opt/network/quickstart/additional.xml' ... done (2ms).\n",
      "Loading done.\n",
      "Simulation version 1.20.0 started with time: 0.00.\n",
      "Step #57600.00 (0ms ?*RT. ?UPS, vehicles TOT 4565 ACT 0 BUF 0)                            \n",
      "Simulation ended at time: 57600.00\n",
      "Reason: The final simulation step has been reached.\n",
      "Performance: \n",
      " Duration: 1.52s\n",
      " Real time factor: 37844.9\n",
      " UPS: 1491114.323259\n",
      "Vehicles: \n",
      " Inserted: 4565\n",
      " Running: 0\n",
      " Waiting: 0\n",
      "Statistics (avg of 4565):\n",
      " RouteLength: 4604.14\n",
      " Speed: 9.59\n",
      " Duration: 497.15\n",
      " WaitingTime: 0.59\n",
      " TimeLoss: 161.06\n",
      " DepartDelay: 1139.98\n",
      "\n",
      "DijkstraRouter answered 8989 queries and explored 11.55 edges on average.\n",
      "DijkstraRouter spent 0.00s answering queries (0.00ms on average).\n",
      "/Users/chois/Gitsrcs/origin_destination_bayes_opt/output/quickstart_bo_vanilla/initial_search/sobol_0_edge_data_quickstart.xml\n",
      "number of GT edges: 14\n",
      "############## loss: 0.86082279930338 ##############\n",
      "########### OD: 1 ###########\n",
      "[879.8636794090271, 1058.053970336914, 326.9776999950409, 404.43551540374756]\n",
      "total expected GT demand: 2669.3308651447296\n",
      "Created  /Users/chois/Gitsrcs/origin_destination_bayes_opt/output/quickstart_bo_vanilla/initial_search/gt_od_v4_1.xml\n",
      "od2trips  --spread.uniform --taz-files /Users/chois/Gitsrcs/origin_destination_bayes_opt/network/quickstart/taz.xml --tazrelation-files output/quickstart_bo_vanilla/initial_search/gt_od_v4_1.xml -o /Users/chois/Gitsrcs/origin_destination_bayes_opt/output/quickstart_bo_vanilla/initial_search/sobol_1_trips_beforeRteUpdates.xml\n",
      "Success.time 299.83\n"
     ]
    },
    {
     "name": "stderr",
     "output_type": "stream",
     "text": [
      "Warning: Could not set locale to 'C'.\n"
     ]
    },
    {
     "name": "stdout",
     "output_type": "stream",
     "text": [
      "###### Running SUMO #######\n",
      "Seed 0\n",
      "sumo --output-prefix output/quickstart_bo_vanilla/initial_search/sobol_1_ --ignore-route-errors=true --net-file=/Users/chois/Gitsrcs/origin_destination_bayes_opt/network/quickstart/net.xml --routes=/Users/chois/Gitsrcs/origin_destination_bayes_opt/output/quickstart_bo_vanilla/initial_search/sobol_1_trips.xml -b 0 -e 57600 --additional-files /Users/chois/Gitsrcs/origin_destination_bayes_opt/network/quickstart/additional.xml --duration-log.statistics --xml-validation never --vehroutes routes.vehroutes.xml --verbose --no-warnings --mesosim true --seed 0\n",
      "Loading net-file from '/Users/chois/Gitsrcs/origin_destination_bayes_opt/network/quickstart/net.xml' ... done (3ms).\n",
      "Loading additional-files from '/Users/chois/Gitsrcs/origin_destination_bayes_opt/network/quickstart/additional.xml' ... done (2ms).\n",
      "Loading done.\n",
      "Simulation version 1.20.0 started with time: 0.00.\n"
     ]
    },
    {
     "name": "stderr",
     "output_type": "stream",
     "text": [
      "Warning: Could not set locale to 'C'.\n"
     ]
    },
    {
     "name": "stdout",
     "output_type": "stream",
     "text": [
      "Step #57600.00 (0ms ?*RT. ?UPS, vehicles TOT 2670 ACT 0 BUF 0)                            \n",
      "Simulation ended at time: 57600.00\n",
      "Reason: The final simulation step has been reached.\n",
      "Performance: \n",
      " Duration: 0.68s\n",
      " Real time factor: 85207.1\n",
      " UPS: 1652482.248521\n",
      "Vehicles: \n",
      " Inserted: 2670\n",
      " Running: 0\n",
      " Waiting: 0\n",
      "Statistics (avg of 2670):\n",
      " RouteLength: 4441.65\n",
      " Speed: 10.64\n",
      " Duration: 418.38\n",
      " WaitingTime: 0.34\n",
      " TimeLoss: 93.93\n",
      " DepartDelay: 743.14\n",
      "\n",
      "DijkstraRouter answered 5163 queries and explored 10.90 edges on average.\n",
      "DijkstraRouter spent 0.01s answering queries (0.00ms on average).\n",
      "/Users/chois/Gitsrcs/origin_destination_bayes_opt/output/quickstart_bo_vanilla/initial_search/sobol_1_edge_data_quickstart.xml\n",
      "number of GT edges: 14\n",
      "############## loss: 0.5271369181869529 ##############\n",
      "########### OD: 2 ###########\n",
      "[121.31647765636444, 769.1731452941895, 1654.9144983291626, 1942.880392074585]\n",
      "total expected GT demand: 4488.284513354301\n",
      "Created  /Users/chois/Gitsrcs/origin_destination_bayes_opt/output/quickstart_bo_vanilla/initial_search/gt_od_v4_2.xml\n",
      "od2trips  --spread.uniform --taz-files /Users/chois/Gitsrcs/origin_destination_bayes_opt/network/quickstart/taz.xml --tazrelation-files output/quickstart_bo_vanilla/initial_search/gt_od_v4_2.xml -o /Users/chois/Gitsrcs/origin_destination_bayes_opt/output/quickstart_bo_vanilla/initial_search/sobol_2_trips_beforeRteUpdates.xml\n"
     ]
    },
    {
     "name": "stderr",
     "output_type": "stream",
     "text": [
      "Warning: Could not set locale to 'C'.\n",
      "Warning: Could not set locale to 'C'.\n"
     ]
    },
    {
     "name": "stdout",
     "output_type": "stream",
     "text": [
      "Success.time 299.42\n",
      "###### Running SUMO #######\n",
      "Seed 0\n",
      "sumo --output-prefix output/quickstart_bo_vanilla/initial_search/sobol_2_ --ignore-route-errors=true --net-file=/Users/chois/Gitsrcs/origin_destination_bayes_opt/network/quickstart/net.xml --routes=/Users/chois/Gitsrcs/origin_destination_bayes_opt/output/quickstart_bo_vanilla/initial_search/sobol_2_trips.xml -b 0 -e 57600 --additional-files /Users/chois/Gitsrcs/origin_destination_bayes_opt/network/quickstart/additional.xml --duration-log.statistics --xml-validation never --vehroutes routes.vehroutes.xml --verbose --no-warnings --mesosim true --seed 0\n",
      "Loading net-file from '/Users/chois/Gitsrcs/origin_destination_bayes_opt/network/quickstart/net.xml' ... done (3ms).\n",
      "Loading additional-files from '/Users/chois/Gitsrcs/origin_destination_bayes_opt/network/quickstart/additional.xml' ... done (2ms).\n",
      "Loading done.\n",
      "Simulation version 1.20.0 started with time: 0.00.\n",
      "Step #57600.00 (0ms ?*RT. ?UPS, vehicles TOT 4489 ACT 0 BUF 0)                            \n",
      "Simulation ended at time: 57600.00\n",
      "Reason: The final simulation step has been reached.\n",
      "Performance: \n",
      " Duration: 1.73s\n",
      " Real time factor: 33275.6\n",
      " UPS: 1073779.318313\n",
      "Vehicles: \n",
      " Inserted: 4489\n",
      " Running: 0\n",
      " Waiting: 0\n",
      "Statistics (avg of 4489):\n",
      " RouteLength: 4420.65\n",
      " Speed: 10.72\n",
      " Duration: 414.06\n",
      " WaitingTime: 0.31\n",
      " TimeLoss: 91.34\n",
      " DepartDelay: 1564.85\n",
      "\n",
      "DijkstraRouter answered 8816 queries and explored 10.83 edges on average.\n",
      "DijkstraRouter spent 0.01s answering queries (0.00ms on average).\n",
      "/Users/chois/Gitsrcs/origin_destination_bayes_opt/output/quickstart_bo_vanilla/initial_search/sobol_2_edge_data_quickstart.xml\n",
      "number of GT edges: 14\n",
      "############## loss: 0.8366494179288658 ##############\n",
      "########### OD: 3 ###########\n",
      "[1139.436960220337, 1891.9118642807007, 599.7792482376099, 505.98055124282837]\n",
      "total expected GT demand: 4137.108623981476\n",
      "Created  /Users/chois/Gitsrcs/origin_destination_bayes_opt/output/quickstart_bo_vanilla/initial_search/gt_od_v4_3.xml\n",
      "od2trips  --spread.uniform --taz-files /Users/chois/Gitsrcs/origin_destination_bayes_opt/network/quickstart/taz.xml --tazrelation-files output/quickstart_bo_vanilla/initial_search/gt_od_v4_3.xml -o /Users/chois/Gitsrcs/origin_destination_bayes_opt/output/quickstart_bo_vanilla/initial_search/sobol_3_trips_beforeRteUpdates.xml\n"
     ]
    },
    {
     "name": "stderr",
     "output_type": "stream",
     "text": [
      "Warning: Could not set locale to 'C'.\n",
      "Warning: Could not set locale to 'C'.\n"
     ]
    },
    {
     "name": "stdout",
     "output_type": "stream",
     "text": [
      "Success.time 299.25\n",
      "###### Running SUMO #######\n",
      "Seed 0\n",
      "sumo --output-prefix output/quickstart_bo_vanilla/initial_search/sobol_3_ --ignore-route-errors=true --net-file=/Users/chois/Gitsrcs/origin_destination_bayes_opt/network/quickstart/net.xml --routes=/Users/chois/Gitsrcs/origin_destination_bayes_opt/output/quickstart_bo_vanilla/initial_search/sobol_3_trips.xml -b 0 -e 57600 --additional-files /Users/chois/Gitsrcs/origin_destination_bayes_opt/network/quickstart/additional.xml --duration-log.statistics --xml-validation never --vehroutes routes.vehroutes.xml --verbose --no-warnings --mesosim true --seed 0\n",
      "Loading net-file from '/Users/chois/Gitsrcs/origin_destination_bayes_opt/network/quickstart/net.xml' ... done (3ms).\n",
      "Loading additional-files from '/Users/chois/Gitsrcs/origin_destination_bayes_opt/network/quickstart/additional.xml' ... done (2ms).\n",
      "Loading done.\n",
      "Simulation version 1.20.0 started with time: 0.00.\n",
      "Step #57600.00 (0ms ?*RT. ?UPS, vehicles TOT 4137 ACT 0 BUF 0)                            \n",
      "Simulation ended at time: 57600.00\n",
      "Reason: The final simulation step has been reached.\n",
      "Performance: \n",
      " Duration: 1.39s\n",
      " Real time factor: 41379.3\n",
      " UPS: 1203025.862069\n",
      "Vehicles: \n",
      " Inserted: 4137\n",
      " Running: 0\n",
      " Waiting: 0\n",
      "Statistics (avg of 4137):\n",
      " RouteLength: 4359.90\n",
      " Speed: 10.79\n",
      " Duration: 404.79\n",
      " WaitingTime: 0.26\n",
      " TimeLoss: 86.30\n",
      " DepartDelay: 1254.35\n",
      "\n",
      "DijkstraRouter answered 8121 queries and explored 10.55 edges on average.\n",
      "DijkstraRouter spent 0.00s answering queries (0.00ms on average).\n",
      "/Users/chois/Gitsrcs/origin_destination_bayes_opt/output/quickstart_bo_vanilla/initial_search/sobol_3_edge_data_quickstart.xml\n",
      "number of GT edges: 14\n",
      "############## loss: 0.8653204616024995 ##############\n",
      "########### OD: 4 ###########\n",
      "[1289.0557050704956, 734.8650097846985, 27.92990207672119, 841.2073850631714]\n",
      "total expected GT demand: 2893.0580019950867\n",
      "Created  /Users/chois/Gitsrcs/origin_destination_bayes_opt/output/quickstart_bo_vanilla/initial_search/gt_od_v4_4.xml\n",
      "od2trips  --spread.uniform --taz-files /Users/chois/Gitsrcs/origin_destination_bayes_opt/network/quickstart/taz.xml --tazrelation-files output/quickstart_bo_vanilla/initial_search/gt_od_v4_4.xml -o /Users/chois/Gitsrcs/origin_destination_bayes_opt/output/quickstart_bo_vanilla/initial_search/sobol_4_trips_beforeRteUpdates.xml\n"
     ]
    },
    {
     "name": "stderr",
     "output_type": "stream",
     "text": [
      "Warning: Could not set locale to 'C'.\n",
      "Warning: Could not set locale to 'C'.\n"
     ]
    },
    {
     "name": "stdout",
     "output_type": "stream",
     "text": [
      "Success.time 299.42\n",
      "###### Running SUMO #######\n",
      "Seed 0\n",
      "sumo --output-prefix output/quickstart_bo_vanilla/initial_search/sobol_4_ --ignore-route-errors=true --net-file=/Users/chois/Gitsrcs/origin_destination_bayes_opt/network/quickstart/net.xml --routes=/Users/chois/Gitsrcs/origin_destination_bayes_opt/output/quickstart_bo_vanilla/initial_search/sobol_4_trips.xml -b 0 -e 57600 --additional-files /Users/chois/Gitsrcs/origin_destination_bayes_opt/network/quickstart/additional.xml --duration-log.statistics --xml-validation never --vehroutes routes.vehroutes.xml --verbose --no-warnings --mesosim true --seed 0\n",
      "Loading net-file from '/Users/chois/Gitsrcs/origin_destination_bayes_opt/network/quickstart/net.xml' ... done (3ms).\n",
      "Loading additional-files from '/Users/chois/Gitsrcs/origin_destination_bayes_opt/network/quickstart/additional.xml' ... done (2ms).\n",
      "Loading done.\n",
      "Simulation version 1.20.0 started with time: 0.00.\n",
      "Step #57600.00 (0ms ?*RT. ?UPS, vehicles TOT 2894 ACT 0 BUF 0)                            \n",
      "Simulation ended at time: 57600.00\n",
      "Reason: The final simulation step has been reached.\n",
      "Performance: \n",
      " Duration: 0.76s\n",
      " Real time factor: 75491.5\n",
      " UPS: 1730522.935780\n",
      "Vehicles: \n",
      " Inserted: 2894\n",
      " Running: 0\n",
      " Waiting: 0\n",
      "Statistics (avg of 2894):\n",
      " RouteLength: 4690.94\n",
      " Speed: 10.37\n",
      " Duration: 456.25\n",
      " WaitingTime: 0.35\n",
      " TimeLoss: 113.43\n",
      " DepartDelay: 781.24\n",
      "\n",
      "DijkstraRouter answered 5618 queries and explored 11.86 edges on average.\n",
      "DijkstraRouter spent 0.00s answering queries (0.00ms on average).\n",
      "/Users/chois/Gitsrcs/origin_destination_bayes_opt/output/quickstart_bo_vanilla/initial_search/sobol_4_edge_data_quickstart.xml\n",
      "number of GT edges: 14\n",
      "############## loss: 0.5233744709626676 ##############\n",
      "########### OD: 5 ###########\n",
      "[458.05656909942627, 1611.7675304412842, 1222.7355241775513, 1655.2461385726929]\n",
      "total expected GT demand: 4947.805762290955\n",
      "Created  /Users/chois/Gitsrcs/origin_destination_bayes_opt/output/quickstart_bo_vanilla/initial_search/gt_od_v4_5.xml\n",
      "od2trips  --spread.uniform --taz-files /Users/chois/Gitsrcs/origin_destination_bayes_opt/network/quickstart/taz.xml --tazrelation-files output/quickstart_bo_vanilla/initial_search/gt_od_v4_5.xml -o /Users/chois/Gitsrcs/origin_destination_bayes_opt/output/quickstart_bo_vanilla/initial_search/sobol_5_trips_beforeRteUpdates.xml\n"
     ]
    },
    {
     "name": "stderr",
     "output_type": "stream",
     "text": [
      "Warning: Could not set locale to 'C'.\n",
      "Warning: Could not set locale to 'C'.\n"
     ]
    },
    {
     "name": "stdout",
     "output_type": "stream",
     "text": [
      "Success.time 299.14\n",
      "###### Running SUMO #######\n",
      "Seed 0\n",
      "sumo --output-prefix output/quickstart_bo_vanilla/initial_search/sobol_5_ --ignore-route-errors=true --net-file=/Users/chois/Gitsrcs/origin_destination_bayes_opt/network/quickstart/net.xml --routes=/Users/chois/Gitsrcs/origin_destination_bayes_opt/output/quickstart_bo_vanilla/initial_search/sobol_5_trips.xml -b 0 -e 57600 --additional-files /Users/chois/Gitsrcs/origin_destination_bayes_opt/network/quickstart/additional.xml --duration-log.statistics --xml-validation never --vehroutes routes.vehroutes.xml --verbose --no-warnings --mesosim true --seed 0\n",
      "Loading net-file from '/Users/chois/Gitsrcs/origin_destination_bayes_opt/network/quickstart/net.xml' ... done (2ms).\n",
      "Loading additional-files from '/Users/chois/Gitsrcs/origin_destination_bayes_opt/network/quickstart/additional.xml' ... done (2ms).\n",
      "Loading done.\n",
      "Simulation version 1.20.0 started with time: 0.00.\n",
      "Step #57600.00 (0ms ?*RT. ?UPS, vehicles TOT 4948 ACT 0 BUF 0)                            \n",
      "Simulation ended at time: 57600.00\n",
      "Reason: The final simulation step has been reached.\n",
      "Performance: \n",
      " Duration: 1.73s\n",
      " Real time factor: 33352.6\n",
      " UPS: 1194874.348581\n",
      "Vehicles: \n",
      " Inserted: 4948\n",
      " Running: 0\n",
      " Waiting: 0\n",
      "Statistics (avg of 4948):\n",
      " RouteLength: 4388.65\n",
      " Speed: 10.55\n",
      " Duration: 417.05\n",
      " WaitingTime: 0.37\n",
      " TimeLoss: 96.53\n",
      " DepartDelay: 1271.63\n",
      "\n",
      "DijkstraRouter answered 9750 queries and explored 10.68 edges on average.\n",
      "DijkstraRouter spent 0.00s answering queries (0.00ms on average).\n",
      "/Users/chois/Gitsrcs/origin_destination_bayes_opt/output/quickstart_bo_vanilla/initial_search/sobol_5_edge_data_quickstart.xml\n",
      "number of GT edges: 14\n",
      "############## loss: 0.8767372802980449 ##############\n",
      "########### OD: 6 ###########\n",
      "[544.7248220443726, 338.5150134563446, 801.1706471443176, 192.74477660655975]\n",
      "total expected GT demand: 1877.1552592515945\n",
      "Created  /Users/chois/Gitsrcs/origin_destination_bayes_opt/output/quickstart_bo_vanilla/initial_search/gt_od_v4_6.xml\n",
      "od2trips  --spread.uniform --taz-files /Users/chois/Gitsrcs/origin_destination_bayes_opt/network/quickstart/taz.xml --tazrelation-files output/quickstart_bo_vanilla/initial_search/gt_od_v4_6.xml -o /Users/chois/Gitsrcs/origin_destination_bayes_opt/output/quickstart_bo_vanilla/initial_search/sobol_6_trips_beforeRteUpdates.xml\n"
     ]
    },
    {
     "name": "stderr",
     "output_type": "stream",
     "text": [
      "Warning: Could not set locale to 'C'.\n",
      "Warning: Could not set locale to 'C'.\n"
     ]
    },
    {
     "name": "stdout",
     "output_type": "stream",
     "text": [
      "Success.time 299.06\n",
      "###### Running SUMO #######\n",
      "Seed 0\n",
      "sumo --output-prefix output/quickstart_bo_vanilla/initial_search/sobol_6_ --ignore-route-errors=true --net-file=/Users/chois/Gitsrcs/origin_destination_bayes_opt/network/quickstart/net.xml --routes=/Users/chois/Gitsrcs/origin_destination_bayes_opt/output/quickstart_bo_vanilla/initial_search/sobol_6_trips.xml -b 0 -e 57600 --additional-files /Users/chois/Gitsrcs/origin_destination_bayes_opt/network/quickstart/additional.xml --duration-log.statistics --xml-validation never --vehroutes routes.vehroutes.xml --verbose --no-warnings --mesosim true --seed 0\n",
      "Loading net-file from '/Users/chois/Gitsrcs/origin_destination_bayes_opt/network/quickstart/net.xml' ... done (3ms).\n",
      "Loading additional-files from '/Users/chois/Gitsrcs/origin_destination_bayes_opt/network/quickstart/additional.xml' ... done (2ms).\n",
      "Loading done.\n",
      "Simulation version 1.20.0 started with time: 0.00.\n",
      "Step #57600.00 (0ms ?*RT. ?UPS, vehicles TOT 1876 ACT 0 BUF 0)                            \n",
      "Simulation ended at time: 57600.00\n",
      "Reason: The final simulation step has been reached.\n",
      "Performance: \n",
      " Duration: 0.38s\n",
      " Real time factor: 150392\n",
      " UPS: 2118942.558747\n",
      "Vehicles: \n",
      " Inserted: 1876\n",
      " Running: 0\n",
      " Waiting: 0\n",
      "Statistics (avg of 1876):\n",
      " RouteLength: 4355.24\n",
      " Speed: 10.10\n",
      " Duration: 432.60\n",
      " WaitingTime: 0.36\n",
      " TimeLoss: 114.04\n",
      " DepartDelay: 367.92\n",
      "\n",
      "DijkstraRouter answered 3565 queries and explored 10.52 edges on average.\n",
      "DijkstraRouter spent 0.01s answering queries (0.00ms on average).\n",
      "/Users/chois/Gitsrcs/origin_destination_bayes_opt/output/quickstart_bo_vanilla/initial_search/sobol_6_edge_data_quickstart.xml\n",
      "number of GT edges: 14\n",
      "############## loss: 0.44886552779830025 ##############\n",
      "########### OD: 7 ###########\n",
      "[1718.0124521255493, 1461.246132850647, 1950.1168727874756, 1256.6044330596924]\n",
      "total expected GT demand: 6385.979890823364\n",
      "Created  /Users/chois/Gitsrcs/origin_destination_bayes_opt/output/quickstart_bo_vanilla/initial_search/gt_od_v4_7.xml\n",
      "od2trips  --spread.uniform --taz-files /Users/chois/Gitsrcs/origin_destination_bayes_opt/network/quickstart/taz.xml --tazrelation-files output/quickstart_bo_vanilla/initial_search/gt_od_v4_7.xml -o /Users/chois/Gitsrcs/origin_destination_bayes_opt/output/quickstart_bo_vanilla/initial_search/sobol_7_trips_beforeRteUpdates.xml\n"
     ]
    },
    {
     "name": "stderr",
     "output_type": "stream",
     "text": [
      "Warning: Could not set locale to 'C'.\n"
     ]
    },
    {
     "name": "stdout",
     "output_type": "stream",
     "text": [
      "Success.time 299.88\n",
      "###### Running SUMO #######\n",
      "Seed 0\n",
      "sumo --output-prefix output/quickstart_bo_vanilla/initial_search/sobol_7_ --ignore-route-errors=true --net-file=/Users/chois/Gitsrcs/origin_destination_bayes_opt/network/quickstart/net.xml --routes=/Users/chois/Gitsrcs/origin_destination_bayes_opt/output/quickstart_bo_vanilla/initial_search/sobol_7_trips.xml -b 0 -e 57600 --additional-files /Users/chois/Gitsrcs/origin_destination_bayes_opt/network/quickstart/additional.xml --duration-log.statistics --xml-validation never --vehroutes routes.vehroutes.xml --verbose --no-warnings --mesosim true --seed 0\n",
      "Loading net-file from '/Users/chois/Gitsrcs/origin_destination_bayes_opt/network/quickstart/net.xml' ... "
     ]
    },
    {
     "name": "stderr",
     "output_type": "stream",
     "text": [
      "Warning: Could not set locale to 'C'.\n"
     ]
    },
    {
     "name": "stdout",
     "output_type": "stream",
     "text": [
      "done (4ms).\n",
      "Loading additional-files from '/Users/chois/Gitsrcs/origin_destination_bayes_opt/network/quickstart/additional.xml' ... done (2ms).\n",
      "Loading done.\n",
      "Simulation version 1.20.0 started with time: 0.00.\n",
      "Step #57600.00 (0ms ?*RT. ?UPS, vehicles TOT 6386 ACT 0 BUF 0)                            \n",
      "Simulation ended at time: 57600.00\n",
      "Reason: The final simulation step has been reached.\n",
      "Performance: \n",
      " Duration: 2.82s\n",
      " Real time factor: 20418.3\n",
      " UPS: 947769.230769\n",
      "Vehicles: \n",
      " Inserted: 6386\n",
      " Running: 0\n",
      " Waiting: 0\n",
      "Statistics (avg of 6386):\n",
      " RouteLength: 4426.59\n",
      " Speed: 10.59\n",
      " Duration: 418.67\n",
      " WaitingTime: 0.36\n",
      " TimeLoss: 95.66\n",
      " DepartDelay: 1639.28\n",
      "\n",
      "DijkstraRouter answered 12633 queries and explored 10.82 edges on average.\n",
      "DijkstraRouter spent 0.01s answering queries (0.00ms on average).\n",
      "/Users/chois/Gitsrcs/origin_destination_bayes_opt/output/quickstart_bo_vanilla/initial_search/sobol_7_edge_data_quickstart.xml\n",
      "number of GT edges: 14\n",
      "############## loss: 1.3392584308294497 ##############\n",
      "########### OD: 8 ###########\n",
      "[1572.5164413452148, 903.8547873497009, 935.9610676765442, 1504.2887926101685]\n",
      "total expected GT demand: 4916.621088981628\n",
      "Created  /Users/chois/Gitsrcs/origin_destination_bayes_opt/output/quickstart_bo_vanilla/initial_search/gt_od_v4_8.xml\n",
      "od2trips  --spread.uniform --taz-files /Users/chois/Gitsrcs/origin_destination_bayes_opt/network/quickstart/taz.xml --tazrelation-files output/quickstart_bo_vanilla/initial_search/gt_od_v4_8.xml -o /Users/chois/Gitsrcs/origin_destination_bayes_opt/output/quickstart_bo_vanilla/initial_search/sobol_8_trips_beforeRteUpdates.xml\n"
     ]
    },
    {
     "name": "stderr",
     "output_type": "stream",
     "text": [
      "Warning: Could not set locale to 'C'.\n",
      "Warning: Could not set locale to 'C'.\n"
     ]
    },
    {
     "name": "stdout",
     "output_type": "stream",
     "text": [
      "Success.time 299.30\n",
      "###### Running SUMO #######\n",
      "Seed 0\n",
      "sumo --output-prefix output/quickstart_bo_vanilla/initial_search/sobol_8_ --ignore-route-errors=true --net-file=/Users/chois/Gitsrcs/origin_destination_bayes_opt/network/quickstart/net.xml --routes=/Users/chois/Gitsrcs/origin_destination_bayes_opt/output/quickstart_bo_vanilla/initial_search/sobol_8_trips.xml -b 0 -e 57600 --additional-files /Users/chois/Gitsrcs/origin_destination_bayes_opt/network/quickstart/additional.xml --duration-log.statistics --xml-validation never --vehroutes routes.vehroutes.xml --verbose --no-warnings --mesosim true --seed 0\n",
      "Loading net-file from '/Users/chois/Gitsrcs/origin_destination_bayes_opt/network/quickstart/net.xml' ... done (3ms).\n",
      "Loading additional-files from '/Users/chois/Gitsrcs/origin_destination_bayes_opt/network/quickstart/additional.xml' ... done (2ms).\n",
      "Loading done.\n",
      "Simulation version 1.20.0 started with time: 0.00.\n",
      "Step #57600.00 (0ms ?*RT. ?UPS, vehicles TOT 4916 ACT 0 BUF 0)                            \n",
      "Simulation ended at time: 57600.00\n",
      "Reason: The final simulation step has been reached.\n",
      "Performance: \n",
      " Duration: 1.74s\n",
      " Real time factor: 33160.6\n",
      " UPS: 1220697.179044\n",
      "Vehicles: \n",
      " Inserted: 4916\n",
      " Running: 0\n",
      " Waiting: 0\n",
      "Statistics (avg of 4916):\n",
      " RouteLength: 4583.01\n",
      " Speed: 10.65\n",
      " Duration: 431.32\n",
      " WaitingTime: 0.33\n",
      " TimeLoss: 96.68\n",
      " DepartDelay: 1218.15\n",
      "\n",
      "DijkstraRouter answered 9686 queries and explored 11.46 edges on average.\n",
      "DijkstraRouter spent 0.01s answering queries (0.00ms on average).\n",
      "/Users/chois/Gitsrcs/origin_destination_bayes_opt/output/quickstart_bo_vanilla/initial_search/sobol_8_edge_data_quickstart.xml\n",
      "number of GT edges: 14\n",
      "############## loss: 0.8224941708190256 ##############\n",
      "########### OD: 9 ###########\n",
      "[680.371105670929, 1780.759334564209, 1819.2213773727417, 945.2893137931824]\n",
      "total expected GT demand: 5225.641131401062\n",
      "Created  /Users/chois/Gitsrcs/origin_destination_bayes_opt/output/quickstart_bo_vanilla/initial_search/gt_od_v4_9.xml\n",
      "od2trips  --spread.uniform --taz-files /Users/chois/Gitsrcs/origin_destination_bayes_opt/network/quickstart/taz.xml --tazrelation-files output/quickstart_bo_vanilla/initial_search/gt_od_v4_9.xml -o /Users/chois/Gitsrcs/origin_destination_bayes_opt/output/quickstart_bo_vanilla/initial_search/sobol_9_trips_beforeRteUpdates.xml\n"
     ]
    },
    {
     "name": "stderr",
     "output_type": "stream",
     "text": [
      "Warning: Could not set locale to 'C'.\n"
     ]
    },
    {
     "name": "stdout",
     "output_type": "stream",
     "text": [
      "Success.time 299.24\n",
      "###### Running SUMO #######\n",
      "Seed 0\n",
      "sumo --output-prefix output/quickstart_bo_vanilla/initial_search/sobol_9_ --ignore-route-errors=true --net-file=/Users/chois/Gitsrcs/origin_destination_bayes_opt/network/quickstart/net.xml --routes=/Users/chois/Gitsrcs/origin_destination_bayes_opt/output/quickstart_bo_vanilla/initial_search/sobol_9_trips.xml -b 0 -e 57600 --additional-files /Users/chois/Gitsrcs/origin_destination_bayes_opt/network/quickstart/additional.xml --duration-log.statistics --xml-validation never --vehroutes routes.vehroutes.xml --verbose --no-warnings --mesosim true --seed 0\n",
      "Loading net-file from '/Users/chois/Gitsrcs/origin_destination_bayes_opt/network/quickstart/net.xml' ... done (3ms).\n",
      "Loading additional-files from '/Users/chois/Gitsrcs/origin_destination_bayes_opt/network/quickstart/additional.xml' ... done (2ms).\n",
      "Loading done.\n",
      "Simulation version 1.20.0 started with time: 0.00.\n"
     ]
    },
    {
     "name": "stderr",
     "output_type": "stream",
     "text": [
      "Warning: Could not set locale to 'C'.\n"
     ]
    },
    {
     "name": "stdout",
     "output_type": "stream",
     "text": [
      "Step #57600.00 (0ms ?*RT. ?UPS, vehicles TOT 5226 ACT 0 BUF 0)                            \n",
      "Simulation ended at time: 57600.00\n",
      "Reason: The final simulation step has been reached.\n",
      "Performance: \n",
      " Duration: 1.97s\n",
      " Real time factor: 29238.6\n",
      " UPS: 1069344.162437\n",
      "Vehicles: \n",
      " Inserted: 5226\n",
      " Running: 0\n",
      " Waiting: 0\n",
      "Statistics (avg of 5226):\n",
      " RouteLength: 4275.19\n",
      " Speed: 10.62\n",
      " Duration: 403.10\n",
      " WaitingTime: 0.27\n",
      " TimeLoss: 90.95\n",
      " DepartDelay: 1316.38\n",
      "\n",
      "DijkstraRouter answered 10308 queries and explored 10.22 edges on average.\n",
      "DijkstraRouter spent 0.02s answering queries (0.00ms on average).\n",
      "/Users/chois/Gitsrcs/origin_destination_bayes_opt/output/quickstart_bo_vanilla/initial_search/sobol_9_edge_data_quickstart.xml\n",
      "number of GT edges: 14\n",
      "############## loss: 0.875526432630675 ##############\n"
     ]
    }
   ],
   "source": [
    "\n",
    "#num_epsilon_iter = 2\n",
    "ods_epsilon = []\n",
    "loss_all = []\n",
    "batch_data_i = []\n",
    "\n",
    "# Base OD which we will update their count entries\n",
    "base_od = gt_od_df.copy()\n",
    "gt_od_vals = gt_od_df['count'].astype(float).to_numpy()\n",
    "\n",
    "for i , x in enumerate(train_X0.tolist()):\n",
    "#for i , x in enumerate(\n",
    "#      [[ 94.66438596,  91.97375804, 101.82277249, 112.44778006,\n",
    "#            105.33019264,  92.62166575,  99.8673423 ,  93.71928772,\n",
    "#            116.16658554,  94.79717515],\n",
    "#      [ 97.4, 114.9, 104.1, 100. , 109.1, 106.7,  87.8, 101.1, 113.9,109.4]]):\n",
    "      print(f\"########### OD: {i} ###########\")\n",
    "      print(x)\n",
    "      \n",
    "      Path(f'{simulation_run_path}/initial_search').mkdir(parents=True, exist_ok=True)\n",
    "      new_od_xml = f'{simulation_run_path}/initial_search/gt_od_{gt_version_str}_{i}.xml'\n",
    "      prefix_output_init = f'{simulation_run_path}/initial_search/sobol_{i}'\n",
    "\n",
    "      # Generate OD\n",
    "      #curr_od = gt_od_vals.copy()\n",
    "      curr_od = np.array(x)\n",
    "\n",
    "      print(f'total expected GT demand: {np.sum(curr_od)}')\n",
    "\n",
    "      ###\n",
    "      # create OD xml file \n",
    "      ###\n",
    "      base_od['count'] = curr_od\n",
    "      # round to 1 decimal point\n",
    "      base_od['count'] = [round(elem, 1) for elem in base_od['count']]     \n",
    "      base_od = base_od.rename(columns={'fromTaz':'from', 'toTaz':'to'})        \n",
    "      create_taz_xml(new_od_xml, base_od, od_duration_sec, base_path)\n",
    "      ods_epsilon.append(curr_od)\n",
    "\n",
    "      # simulate gt od\n",
    "      simulate_od(new_od_xml, \n",
    "                  prefix_output_init, \n",
    "                  base_path, \n",
    "                  net_xml, \n",
    "                  taz2edge_xml, \n",
    "                  additional_xml, \n",
    "                  routes_df,\n",
    "                  sim_end_time,\n",
    "                  TRIPS2ODS_OUT_STR)\n",
    "\n",
    "      ## Compute loss\n",
    "      #prefix_output = f'initial_search/sobol_{i}'\n",
    "      sim_edge_out = f'{base_path}/{prefix_output_init}_{EDGE_OUT_STR}'\n",
    "      print(sim_edge_out)\n",
    "      curr_loop_stats, _, _ = parse_loop_data_xml_to_pandas(base_path, sim_edge_out,prefix_output_init,SUMO_PATH)\n",
    "      curr_loss = compute_nrmse_counts_all_edges(gt_edge_data, curr_loop_stats)\n",
    "\n",
    "      loss_all.append(curr_loss)\n",
    "      print(f\"############## loss: {curr_loss} ##############\")\n",
    "\n",
    "      # Parse training data\n",
    "      df_curr = pd.DataFrame(curr_od.reshape(1,dim_od),\n",
    "                        columns = [f\"x_{i+1}\" for i in range(dim_od)])\n",
    "      df_curr['loss'] = curr_loss\n",
    "      batch_data_i.append(df_curr)\n",
    "\n"
   ]
  },
  {
   "cell_type": "code",
   "execution_count": 18,
   "metadata": {},
   "outputs": [
    {
     "data": {
      "text/html": [
       "<div>\n",
       "<style scoped>\n",
       "    .dataframe tbody tr th:only-of-type {\n",
       "        vertical-align: middle;\n",
       "    }\n",
       "\n",
       "    .dataframe tbody tr th {\n",
       "        vertical-align: top;\n",
       "    }\n",
       "\n",
       "    .dataframe thead th {\n",
       "        text-align: right;\n",
       "    }\n",
       "</style>\n",
       "<table border=\"1\" class=\"dataframe\">\n",
       "  <thead>\n",
       "    <tr style=\"text-align: right;\">\n",
       "      <th></th>\n",
       "      <th>x_1</th>\n",
       "      <th>x_2</th>\n",
       "      <th>x_3</th>\n",
       "      <th>x_4</th>\n",
       "      <th>loss</th>\n",
       "    </tr>\n",
       "  </thead>\n",
       "  <tbody>\n",
       "    <tr>\n",
       "      <th>0</th>\n",
       "      <td>1865.265131</td>\n",
       "      <td>181.159094</td>\n",
       "      <td>1428.094387</td>\n",
       "      <td>1091.529727</td>\n",
       "      <td>0.860823</td>\n",
       "    </tr>\n",
       "    <tr>\n",
       "      <th>0</th>\n",
       "      <td>879.863679</td>\n",
       "      <td>1058.053970</td>\n",
       "      <td>326.977700</td>\n",
       "      <td>404.435515</td>\n",
       "      <td>0.527137</td>\n",
       "    </tr>\n",
       "    <tr>\n",
       "      <th>0</th>\n",
       "      <td>121.316478</td>\n",
       "      <td>769.173145</td>\n",
       "      <td>1654.914498</td>\n",
       "      <td>1942.880392</td>\n",
       "      <td>0.836649</td>\n",
       "    </tr>\n",
       "    <tr>\n",
       "      <th>0</th>\n",
       "      <td>1139.436960</td>\n",
       "      <td>1891.911864</td>\n",
       "      <td>599.779248</td>\n",
       "      <td>505.980551</td>\n",
       "      <td>0.865320</td>\n",
       "    </tr>\n",
       "    <tr>\n",
       "      <th>0</th>\n",
       "      <td>1289.055705</td>\n",
       "      <td>734.865010</td>\n",
       "      <td>27.929902</td>\n",
       "      <td>841.207385</td>\n",
       "      <td>0.523374</td>\n",
       "    </tr>\n",
       "  </tbody>\n",
       "</table>\n",
       "</div>"
      ],
      "text/plain": [
       "           x_1          x_2          x_3          x_4      loss\n",
       "0  1865.265131   181.159094  1428.094387  1091.529727  0.860823\n",
       "0   879.863679  1058.053970   326.977700   404.435515  0.527137\n",
       "0   121.316478   769.173145  1654.914498  1942.880392  0.836649\n",
       "0  1139.436960  1891.911864   599.779248   505.980551  0.865320\n",
       "0  1289.055705   734.865010    27.929902   841.207385  0.523374"
      ]
     },
     "execution_count": 18,
     "metadata": {},
     "output_type": "execute_result"
    }
   ],
   "source": [
    "df_initial_bo = pd.concat(batch_data_i)\n",
    "df_initial_bo.head()"
   ]
  },
  {
   "cell_type": "code",
   "execution_count": 19,
   "metadata": {},
   "outputs": [
    {
     "data": {
      "text/plain": [
       "'output/quickstart_bo_vanilla'"
      ]
     },
     "execution_count": 19,
     "metadata": {},
     "output_type": "execute_result"
    }
   ],
   "source": [
    "simulation_run_path"
   ]
  },
  {
   "cell_type": "code",
   "execution_count": 20,
   "metadata": {},
   "outputs": [],
   "source": [
    "# Save initial dataset\n",
    "df_initial_bo.to_csv(f\"{simulation_run_path}/initial_search/data_set_ods_0_2000.csv\",index=None)\n"
   ]
  },
  {
   "cell_type": "markdown",
   "metadata": {},
   "source": [
    "#### Bayesian optimization helpers\n"
   ]
  },
  {
   "cell_type": "code",
   "execution_count": 21,
   "metadata": {},
   "outputs": [],
   "source": [
    "\n",
    "\n",
    "\n",
    "def initialize_gp_model(train_X,train_Y):\n",
    "    \n",
    "    dim = train_X.size(dim=1)\n",
    "\n",
    "    likelihood = GaussianLikelihood(noise_constraint=Interval(1e-8, 1e-3))\n",
    "    covar_module = ScaleKernel(  # Use the same lengthscale prior as in the TuRBO paper\n",
    "        MaternKernel(\n",
    "            nu=2.5, ard_num_dims=dim, lengthscale_constraint=Interval(0.005, 4.0)\n",
    "        )\n",
    "    )\n",
    "\n",
    "    gp_model = SingleTaskGP(\n",
    "        train_X, train_Y, \n",
    "        covar_module=covar_module, likelihood=likelihood, \n",
    "        outcome_transform=Standardize(m=1)\n",
    "    )\n",
    "\n",
    "    gp_mll = ExactMarginalLogLikelihood(gp_model.likelihood, gp_model)\n",
    "    \n",
    "    return gp_model, gp_mll"
   ]
  },
  {
   "cell_type": "code",
   "execution_count": 22,
   "metadata": {},
   "outputs": [],
   "source": [
    "### Acquisition Function: q-EI\n",
    "# Acquisition function\n",
    "\n",
    "sampler = StochasticSampler(sample_shape=torch.Size([128])) # TODO : sample shape from sim_setup?\n",
    "#qEI = qExpectedImprovement(gp_model, best_f=max(train_Y), sampler=sampler)\n"
   ]
  },
  {
   "cell_type": "code",
   "execution_count": 23,
   "metadata": {},
   "outputs": [],
   "source": [
    "def optimize_acqf_and_get_observation(acq_func,bounds):\n",
    "    \"\"\"Optimizes the acquisition function, and returns a new candidate.\"\"\"\n",
    "\n",
    "    dim = acq_func.model.train_inputs[0].size(dim=1)\n",
    "\n",
    "    # optimize\n",
    "    candidates, _ = optimize_acqf(\n",
    "        acq_function=acq_func,\n",
    "        bounds=torch.tensor([[0.0] * dim, [1.0] * dim], device=device, dtype=dtype),\n",
    "        q=BATCH_SIZE,\n",
    "        num_restarts=NUM_RESTARTS,\n",
    "        raw_samples=RAW_SAMPLES,  # used for intialization heuristic\n",
    "        options={\"batch_limit\": 5, \"maxiter\": 200},\n",
    "    )\n",
    "\n",
    "    # observe new values \n",
    "    new_x = candidates.detach()\n",
    "    \n",
    "    return unnormalize(new_x, bounds)\n"
   ]
  },
  {
   "cell_type": "code",
   "execution_count": 24,
   "metadata": {},
   "outputs": [],
   "source": [
    "# df_0 = pd.read_csv(base_path + f\"/initial_search/data_set_ods_0_2000.csv\")\n",
    "df_0 = pd.read_csv(f\"{simulation_run_path}/initial_search/data_set_ods_0_2000.csv\")"
   ]
  },
  {
   "cell_type": "code",
   "execution_count": 25,
   "metadata": {
    "collapsed": true,
    "jupyter": {
     "outputs_hidden": true
    },
    "tags": []
   },
   "outputs": [
    {
     "name": "stdout",
     "output_type": "stream",
     "text": [
      "########### BO iteration=1 ###########\n",
      "##### best_value=-0.4488655277983002 #####\n",
      "Generating new sampling location(s)....\n",
      "########### Sampling location=1 ###########\n",
      "total expected GT demand: 899.9411173619458\n",
      "Created  /Users/chois/Gitsrcs/origin_destination_bayes_opt/output/quickstart_bo_vanilla/od.xml\n",
      "od2trips  --spread.uniform --taz-files /Users/chois/Gitsrcs/origin_destination_bayes_opt/network/quickstart/taz.xml --tazrelation-files output/quickstart_bo_vanilla/od.xml -o /Users/chois/Gitsrcs/origin_destination_bayes_opt/output/quickstart_bo_vanilla/BO/bayesOpt_0_trips_beforeRteUpdates.xml\n",
      "Success.time 299.17\n",
      "###### Running SUMO #######\n",
      "Seed 0\n",
      "sumo --output-prefix output/quickstart_bo_vanilla/BO/bayesOpt_0_ --ignore-route-errors=true --net-file=/Users/chois/Gitsrcs/origin_destination_bayes_opt/network/quickstart/net.xml --routes=/Users/chois/Gitsrcs/origin_destination_bayes_opt/output/quickstart_bo_vanilla/BO/bayesOpt_0_trips.xml -b 0 -e 57600 --additional-files /Users/chois/Gitsrcs/origin_destination_bayes_opt/network/quickstart/additional.xml --duration-log.statistics --xml-validation never --vehroutes routes.vehroutes.xml --verbose --no-warnings --mesosim true --seed 0\n",
      "Loading net-file from '/Users/chois/Gitsrcs/origin_destination_bayes_opt/network/quickstart/net.xml' ... done (3ms).\n",
      "Loading additional-files from '/Users/chois/Gitsrcs/origin_destination_bayes_opt/network/quickstart/additional.xml' ... done (2ms).\n",
      "Loading done.\n",
      "Simulation version 1.20.0 started with time: 0.00.\n"
     ]
    },
    {
     "name": "stderr",
     "output_type": "stream",
     "text": [
      "Warning: Could not set locale to 'C'.\n",
      "Warning: Could not set locale to 'C'.\n"
     ]
    },
    {
     "name": "stdout",
     "output_type": "stream",
     "text": [
      "Step #57600.00 (0ms ?*RT. ?UPS, vehicles TOT 900 ACT 0 BUF 0)                             \n",
      "Simulation ended at time: 57600.00\n",
      "Reason: The final simulation step has been reached.\n",
      "Performance: \n",
      " Duration: 0.23s\n",
      " Real time factor: 256000\n",
      " UPS: 2065968.888889\n",
      "Vehicles: \n",
      " Inserted: 900\n",
      " Running: 0\n",
      " Waiting: 0\n",
      "Statistics (avg of 900):\n",
      " RouteLength: 4948.60\n",
      " Speed: 9.61\n",
      " Duration: 516.49\n",
      " WaitingTime: 0.44\n",
      " TimeLoss: 153.40\n",
      " DepartDelay: 344.89\n",
      "\n",
      "DijkstraRouter answered 1709 queries and explored 12.88 edges on average.\n",
      "DijkstraRouter spent 0.00s answering queries (0.00ms on average).\n",
      "/Users/chois/Gitsrcs/origin_destination_bayes_opt/output/quickstart_bo_vanilla/BO/bayesOpt_0_edge_data_quickstart.xml\n",
      "number of GT edges: 14\n",
      "############## loss: 0.8563323866245393 ##############\n",
      "########### BO iteration=2 ###########\n",
      "##### best_value=-0.4488655277983002 #####\n",
      "Generating new sampling location(s)....\n",
      "########### Sampling location=1 ###########\n",
      "total expected GT demand: 1167.3584326444418\n",
      "Created  /Users/chois/Gitsrcs/origin_destination_bayes_opt/output/quickstart_bo_vanilla/od.xml\n",
      "od2trips  --spread.uniform --taz-files /Users/chois/Gitsrcs/origin_destination_bayes_opt/network/quickstart/taz.xml --tazrelation-files output/quickstart_bo_vanilla/od.xml -o /Users/chois/Gitsrcs/origin_destination_bayes_opt/output/quickstart_bo_vanilla/BO/bayesOpt_1_trips_beforeRteUpdates.xml\n",
      "Success.time 299.62\n",
      "###### Running SUMO #######\n",
      "Seed 0\n",
      "sumo --output-prefix output/quickstart_bo_vanilla/BO/bayesOpt_1_ --ignore-route-errors=true --net-file=/Users/chois/Gitsrcs/origin_destination_bayes_opt/network/quickstart/net.xml --routes=/Users/chois/Gitsrcs/origin_destination_bayes_opt/output/quickstart_bo_vanilla/BO/bayesOpt_1_trips.xml -b 0 -e 57600 --additional-files /Users/chois/Gitsrcs/origin_destination_bayes_opt/network/quickstart/additional.xml --duration-log.statistics --xml-validation never --vehroutes routes.vehroutes.xml --verbose --no-warnings --mesosim true --seed 0\n",
      "Loading net-file from '/Users/chois/Gitsrcs/origin_destination_bayes_opt/network/quickstart/net.xml' ... done (3ms).\n"
     ]
    },
    {
     "name": "stderr",
     "output_type": "stream",
     "text": [
      "Warning: Could not set locale to 'C'.\n",
      "Warning: Could not set locale to 'C'.\n"
     ]
    },
    {
     "name": "stdout",
     "output_type": "stream",
     "text": [
      "Loading additional-files from '/Users/chois/Gitsrcs/origin_destination_bayes_opt/network/quickstart/additional.xml' ... done (2ms).\n",
      "Loading done.\n",
      "Simulation version 1.20.0 started with time: 0.00.\n",
      "Step #57600.00 (0ms ?*RT. ?UPS, vehicles TOT 1167 ACT 0 BUF 0)                            \n",
      "Simulation ended at time: 57600.00\n",
      "Reason: The final simulation step has been reached.\n",
      "Performance: \n",
      " Duration: 0.23s\n",
      " Real time factor: 248276\n",
      " UPS: 2218202.586207\n",
      "Vehicles: \n",
      " Inserted: 1167\n",
      " Running: 0\n",
      " Waiting: 0\n",
      "Statistics (avg of 1167):\n",
      " RouteLength: 4387.51\n",
      " Speed: 10.04\n",
      " Duration: 440.98\n",
      " WaitingTime: 0.33\n",
      " TimeLoss: 119.69\n",
      " DepartDelay: 165.34\n",
      "\n",
      "DijkstraRouter answered 2072 queries and explored 10.64 edges on average.\n",
      "DijkstraRouter spent 0.00s answering queries (0.00ms on average).\n",
      "/Users/chois/Gitsrcs/origin_destination_bayes_opt/output/quickstart_bo_vanilla/BO/bayesOpt_1_edge_data_quickstart.xml\n",
      "number of GT edges: 14\n",
      "############## loss: 0.6489211737736462 ##############\n",
      "########### BO iteration=3 ###########\n",
      "##### best_value=-0.4488655277983002 #####\n",
      "Generating new sampling location(s)....\n",
      "########### Sampling location=1 ###########\n",
      "total expected GT demand: 2447.8131816793375\n",
      "Created  /Users/chois/Gitsrcs/origin_destination_bayes_opt/output/quickstart_bo_vanilla/od.xml\n",
      "od2trips  --spread.uniform --taz-files /Users/chois/Gitsrcs/origin_destination_bayes_opt/network/quickstart/taz.xml --tazrelation-files output/quickstart_bo_vanilla/od.xml -o /Users/chois/Gitsrcs/origin_destination_bayes_opt/output/quickstart_bo_vanilla/BO/bayesOpt_2_trips_beforeRteUpdates.xml\n",
      "Success.time 299.45\n",
      "###### Running SUMO #######\n",
      "Seed 0\n",
      "sumo --output-prefix output/quickstart_bo_vanilla/BO/bayesOpt_2_ --ignore-route-errors=true --net-file=/Users/chois/Gitsrcs/origin_destination_bayes_opt/network/quickstart/net.xml --routes=/Users/chois/Gitsrcs/origin_destination_bayes_opt/output/quickstart_bo_vanilla/BO/bayesOpt_2_trips.xml -b 0 -e 57600 --additional-files /Users/chois/Gitsrcs/origin_destination_bayes_opt/network/quickstart/additional.xml --duration-log.statistics --xml-validation never --vehroutes routes.vehroutes.xml --verbose --no-warnings --mesosim true --seed 0\n",
      "Loading net-file from '/Users/chois/Gitsrcs/origin_destination_bayes_opt/network/quickstart/net.xml' ... done (2ms).\n",
      "Loading additional-files from '/Users/chois/Gitsrcs/origin_destination_bayes_opt/network/quickstart/additional.xml' ... done (5ms).\n",
      "Loading done.\n",
      "Simulation version 1.20.0 started with time: 0.00.\n"
     ]
    },
    {
     "name": "stderr",
     "output_type": "stream",
     "text": [
      "Warning: Could not set locale to 'C'.\n",
      "Warning: Could not set locale to 'C'.\n"
     ]
    },
    {
     "name": "stdout",
     "output_type": "stream",
     "text": [
      "Step #57600.00 (0ms ?*RT. ?UPS, vehicles TOT 2447 ACT 0 BUF 0)                            \n",
      "Simulation ended at time: 57600.00\n",
      "Reason: The final simulation step has been reached.\n",
      "Performance: \n",
      " Duration: 0.56s\n",
      " Real time factor: 102309\n",
      " UPS: 1858630.550622\n",
      "Vehicles: \n",
      " Inserted: 2447\n",
      " Running: 0\n",
      " Waiting: 0\n",
      "Statistics (avg of 2447):\n",
      " RouteLength: 4553.61\n",
      " Speed: 10.68\n",
      " Duration: 427.63\n",
      " WaitingTime: 0.33\n",
      " TimeLoss: 95.02\n",
      " DepartDelay: 544.39\n",
      "\n",
      "DijkstraRouter answered 4724 queries and explored 11.32 edges on average.\n",
      "DijkstraRouter spent 0.01s answering queries (0.00ms on average).\n",
      "/Users/chois/Gitsrcs/origin_destination_bayes_opt/output/quickstart_bo_vanilla/BO/bayesOpt_2_edge_data_quickstart.xml\n",
      "number of GT edges: 14\n",
      "############## loss: 0.337543585363857 ##############\n",
      "########### BO iteration=4 ###########\n",
      "##### best_value=-0.337543585363857 #####\n",
      "Generating new sampling location(s)....\n",
      "########### Sampling location=1 ###########\n",
      "total expected GT demand: 3259.135200811814\n",
      "Created  /Users/chois/Gitsrcs/origin_destination_bayes_opt/output/quickstart_bo_vanilla/od.xml\n",
      "od2trips  --spread.uniform --taz-files /Users/chois/Gitsrcs/origin_destination_bayes_opt/network/quickstart/taz.xml --tazrelation-files output/quickstart_bo_vanilla/od.xml -o /Users/chois/Gitsrcs/origin_destination_bayes_opt/output/quickstart_bo_vanilla/BO/bayesOpt_3_trips_beforeRteUpdates.xml\n",
      "Success.time 299.72\n",
      "###### Running SUMO #######\n",
      "Seed 0\n",
      "sumo --output-prefix output/quickstart_bo_vanilla/BO/bayesOpt_3_ --ignore-route-errors=true --net-file=/Users/chois/Gitsrcs/origin_destination_bayes_opt/network/quickstart/net.xml --routes=/Users/chois/Gitsrcs/origin_destination_bayes_opt/output/quickstart_bo_vanilla/BO/bayesOpt_3_trips.xml -b 0 -e 57600 --additional-files /Users/chois/Gitsrcs/origin_destination_bayes_opt/network/quickstart/additional.xml --duration-log.statistics --xml-validation never --vehroutes routes.vehroutes.xml --verbose --no-warnings --mesosim true --seed 0\n",
      "Loading net-file from '/Users/chois/Gitsrcs/origin_destination_bayes_opt/network/quickstart/net.xml' ... done (3ms).\n",
      "Loading additional-files from '/Users/chois/Gitsrcs/origin_destination_bayes_opt/network/quickstart/additional.xml' ... done (2ms).\n",
      "Loading done.\n",
      "Simulation version 1.20.0 started with time: 0.00.\n"
     ]
    },
    {
     "name": "stderr",
     "output_type": "stream",
     "text": [
      "Warning: Could not set locale to 'C'.\n",
      "Warning: Could not set locale to 'C'.\n"
     ]
    },
    {
     "name": "stdout",
     "output_type": "stream",
     "text": [
      "Step #57600.00 (0ms ?*RT. ?UPS, vehicles TOT 3258 ACT 0 BUF 0)                            \n",
      "Simulation ended at time: 57600.00\n",
      "Reason: The final simulation step has been reached.\n",
      "Performance: \n",
      " Duration: 0.93s\n",
      " Real time factor: 62203\n",
      " UPS: 1786507.559395\n",
      "Vehicles: \n",
      " Inserted: 3258\n",
      " Running: 0\n",
      " Waiting: 0\n",
      "Statistics (avg of 3258):\n",
      " RouteLength: 4687.33\n",
      " Speed: 9.49\n",
      " Duration: 507.77\n",
      " WaitingTime: 0.56\n",
      " TimeLoss: 165.00\n",
      " DepartDelay: 753.64\n",
      "\n",
      "DijkstraRouter answered 6360 queries and explored 11.85 edges on average.\n",
      "DijkstraRouter spent 0.00s answering queries (0.00ms on average).\n",
      "/Users/chois/Gitsrcs/origin_destination_bayes_opt/output/quickstart_bo_vanilla/BO/bayesOpt_3_edge_data_quickstart.xml\n",
      "number of GT edges: 14\n",
      "############## loss: 0.4926602017487828 ##############\n",
      "########### BO iteration=5 ###########\n",
      "##### best_value=-0.337543585363857 #####\n",
      "Generating new sampling location(s)....\n",
      "########### Sampling location=1 ###########\n",
      "total expected GT demand: 3348.3438593531055\n",
      "Created  /Users/chois/Gitsrcs/origin_destination_bayes_opt/output/quickstart_bo_vanilla/od.xml\n",
      "od2trips  --spread.uniform --taz-files /Users/chois/Gitsrcs/origin_destination_bayes_opt/network/quickstart/taz.xml --tazrelation-files output/quickstart_bo_vanilla/od.xml -o /Users/chois/Gitsrcs/origin_destination_bayes_opt/output/quickstart_bo_vanilla/BO/bayesOpt_4_trips_beforeRteUpdates.xml\n",
      "Success.time 299.11\n",
      "###### Running SUMO #######\n",
      "Seed 0\n",
      "sumo --output-prefix output/quickstart_bo_vanilla/BO/bayesOpt_4_ --ignore-route-errors=true --net-file=/Users/chois/Gitsrcs/origin_destination_bayes_opt/network/quickstart/net.xml --routes=/Users/chois/Gitsrcs/origin_destination_bayes_opt/output/quickstart_bo_vanilla/BO/bayesOpt_4_trips.xml -b 0 -e 57600 --additional-files /Users/chois/Gitsrcs/origin_destination_bayes_opt/network/quickstart/additional.xml --duration-log.statistics --xml-validation never --vehroutes routes.vehroutes.xml --verbose --no-warnings --mesosim true --seed 0\n",
      "Loading net-file from '/Users/chois/Gitsrcs/origin_destination_bayes_opt/network/quickstart/net.xml' ... done (3ms).\n",
      "Loading additional-files from '/Users/chois/Gitsrcs/origin_destination_bayes_opt/network/quickstart/additional.xml' ... done (2ms).\n",
      "Loading done.\n",
      "Simulation version 1.20.0 started with time: 0.00.\n"
     ]
    },
    {
     "name": "stderr",
     "output_type": "stream",
     "text": [
      "Warning: Could not set locale to 'C'.\n",
      "Warning: Could not set locale to 'C'.\n"
     ]
    },
    {
     "name": "stdout",
     "output_type": "stream",
     "text": [
      "Step #57600.00 (0ms ?*RT. ?UPS, vehicles TOT 3347 ACT 0 BUF 0)                            \n",
      "Simulation ended at time: 57600.00\n",
      "Reason: The final simulation step has been reached.\n",
      "Performance: \n",
      " Duration: 0.91s\n",
      " Real time factor: 63506.1\n",
      " UPS: 1528001.102536\n",
      "Vehicles: \n",
      " Inserted: 3347\n",
      " Running: 0\n",
      " Waiting: 0\n",
      "Statistics (avg of 3347):\n",
      " RouteLength: 4367.53\n",
      " Speed: 10.56\n",
      " Duration: 414.07\n",
      " WaitingTime: 0.36\n",
      " TimeLoss: 94.71\n",
      " DepartDelay: 782.03\n",
      "\n",
      "DijkstraRouter answered 6539 queries and explored 10.59 edges on average.\n",
      "DijkstraRouter spent 0.01s answering queries (0.00ms on average).\n",
      "/Users/chois/Gitsrcs/origin_destination_bayes_opt/output/quickstart_bo_vanilla/BO/bayesOpt_4_edge_data_quickstart.xml\n",
      "number of GT edges: 14\n",
      "############## loss: 0.3472115099314963 ##############\n",
      "########### BO iteration=6 ###########\n",
      "##### best_value=-0.337543585363857 #####\n",
      "Generating new sampling location(s)....\n",
      "########### Sampling location=1 ###########\n",
      "total expected GT demand: 3011.4260021856503\n",
      "Created  /Users/chois/Gitsrcs/origin_destination_bayes_opt/output/quickstart_bo_vanilla/od.xml\n",
      "od2trips  --spread.uniform --taz-files /Users/chois/Gitsrcs/origin_destination_bayes_opt/network/quickstart/taz.xml --tazrelation-files output/quickstart_bo_vanilla/od.xml -o /Users/chois/Gitsrcs/origin_destination_bayes_opt/output/quickstart_bo_vanilla/BO/bayesOpt_5_trips_beforeRteUpdates.xml\n",
      "Success.time 299.48\n",
      "###### Running SUMO #######\n",
      "Seed 0\n",
      "sumo --output-prefix output/quickstart_bo_vanilla/BO/bayesOpt_5_ --ignore-route-errors=true --net-file=/Users/chois/Gitsrcs/origin_destination_bayes_opt/network/quickstart/net.xml --routes=/Users/chois/Gitsrcs/origin_destination_bayes_opt/output/quickstart_bo_vanilla/BO/bayesOpt_5_trips.xml -b 0 -e 57600 --additional-files /Users/chois/Gitsrcs/origin_destination_bayes_opt/network/quickstart/additional.xml --duration-log.statistics --xml-validation never --vehroutes routes.vehroutes.xml --verbose --no-warnings --mesosim true --seed 0\n",
      "Loading net-file from '/Users/chois/Gitsrcs/origin_destination_bayes_opt/network/quickstart/net.xml' ... done (3ms).\n",
      "Loading additional-files from '/Users/chois/Gitsrcs/origin_destination_bayes_opt/network/quickstart/additional.xml' ... done (1ms).\n",
      "Loading done.\n",
      "Simulation version 1.20.0 started with time: 0.00.\n"
     ]
    },
    {
     "name": "stderr",
     "output_type": "stream",
     "text": [
      "Warning: Could not set locale to 'C'.\n",
      "Warning: Could not set locale to 'C'.\n"
     ]
    },
    {
     "name": "stdout",
     "output_type": "stream",
     "text": [
      "Step #57600.00 (0ms ?*RT. ?UPS, vehicles TOT 3011 ACT 0 BUF 0)                            \n",
      "Simulation ended at time: 57600.00\n",
      "Reason: The final simulation step has been reached.\n",
      "Performance: \n",
      " Duration: 0.81s\n",
      " Real time factor: 70761.7\n",
      " UPS: 1586410.319410\n",
      "Vehicles: \n",
      " Inserted: 3011\n",
      " Running: 0\n",
      " Waiting: 0\n",
      "Statistics (avg of 3011):\n",
      " RouteLength: 4550.67\n",
      " Speed: 10.63\n",
      " Duration: 428.87\n",
      " WaitingTime: 0.34\n",
      " TimeLoss: 96.20\n",
      " DepartDelay: 697.13\n",
      "\n",
      "DijkstraRouter answered 5865 queries and explored 11.34 edges on average.\n",
      "DijkstraRouter spent 0.00s answering queries (0.00ms on average).\n",
      "/Users/chois/Gitsrcs/origin_destination_bayes_opt/output/quickstart_bo_vanilla/BO/bayesOpt_5_edge_data_quickstart.xml\n",
      "number of GT edges: 14\n",
      "############## loss: 0.19545890687625672 ##############\n",
      "########### BO iteration=7 ###########\n",
      "##### best_value=-0.19545890687625672 #####\n",
      "Generating new sampling location(s)....\n",
      "########### Sampling location=1 ###########\n",
      "total expected GT demand: 2615.152408694182\n",
      "Created  /Users/chois/Gitsrcs/origin_destination_bayes_opt/output/quickstart_bo_vanilla/od.xml\n",
      "od2trips  --spread.uniform --taz-files /Users/chois/Gitsrcs/origin_destination_bayes_opt/network/quickstart/taz.xml --tazrelation-files output/quickstart_bo_vanilla/od.xml -o /Users/chois/Gitsrcs/origin_destination_bayes_opt/output/quickstart_bo_vanilla/BO/bayesOpt_6_trips_beforeRteUpdates.xml\n",
      "Success.time 299.75\n",
      "###### Running SUMO #######\n",
      "Seed 0\n",
      "sumo --output-prefix output/quickstart_bo_vanilla/BO/bayesOpt_6_ --ignore-route-errors=true --net-file=/Users/chois/Gitsrcs/origin_destination_bayes_opt/network/quickstart/net.xml --routes=/Users/chois/Gitsrcs/origin_destination_bayes_opt/output/quickstart_bo_vanilla/BO/bayesOpt_6_trips.xml -b 0 -e 57600 --additional-files /Users/chois/Gitsrcs/origin_destination_bayes_opt/network/quickstart/additional.xml --duration-log.statistics --xml-validation never --vehroutes routes.vehroutes.xml --verbose --no-warnings --mesosim true --seed 0\n",
      "Loading net-file from '/Users/chois/Gitsrcs/origin_destination_bayes_opt/network/quickstart/net.xml' ... done (3ms).\n",
      "Loading additional-files from '/Users/chois/Gitsrcs/origin_destination_bayes_opt/network/quickstart/additional.xml' ... done (1ms).\n",
      "Loading done.\n",
      "Simulation version 1.20.0 started with time: 0.00.\n"
     ]
    },
    {
     "name": "stderr",
     "output_type": "stream",
     "text": [
      "Warning: Could not set locale to 'C'.\n",
      "Warning: Could not set locale to 'C'.\n"
     ]
    },
    {
     "name": "stdout",
     "output_type": "stream",
     "text": [
      "Step #57600.00 (0ms ?*RT. ?UPS, vehicles TOT 2614 ACT 0 BUF 0)                            \n",
      "Simulation ended at time: 57600.00\n",
      "Reason: The final simulation step has been reached.\n",
      "Performance: \n",
      " Duration: 0.67s\n",
      " Real time factor: 85970.1\n",
      " UPS: 1705791.044776\n",
      "Vehicles: \n",
      " Inserted: 2614\n",
      " Running: 0\n",
      " Waiting: 0\n",
      "Statistics (avg of 2614):\n",
      " RouteLength: 4576.60\n",
      " Speed: 10.53\n",
      " Duration: 437.21\n",
      " WaitingTime: 0.36\n",
      " TimeLoss: 102.83\n",
      " DepartDelay: 759.89\n",
      "\n",
      "DijkstraRouter answered 5034 queries and explored 11.39 edges on average.\n",
      "DijkstraRouter spent 0.01s answering queries (0.00ms on average).\n",
      "/Users/chois/Gitsrcs/origin_destination_bayes_opt/output/quickstart_bo_vanilla/BO/bayesOpt_6_edge_data_quickstart.xml\n",
      "number of GT edges: 14\n",
      "############## loss: 0.18183889742127402 ##############\n",
      "########### BO iteration=8 ###########\n",
      "##### best_value=-0.18183889742127402 #####\n",
      "Generating new sampling location(s)....\n",
      "########### Sampling location=1 ###########\n",
      "total expected GT demand: 2809.9297669306934\n",
      "Created  /Users/chois/Gitsrcs/origin_destination_bayes_opt/output/quickstart_bo_vanilla/od.xml\n",
      "od2trips  --spread.uniform --taz-files /Users/chois/Gitsrcs/origin_destination_bayes_opt/network/quickstart/taz.xml --tazrelation-files output/quickstart_bo_vanilla/od.xml -o /Users/chois/Gitsrcs/origin_destination_bayes_opt/output/quickstart_bo_vanilla/BO/bayesOpt_7_trips_beforeRteUpdates.xml\n",
      "Success.time 299.80\n",
      "###### Running SUMO #######\n",
      "Seed 0\n",
      "sumo --output-prefix output/quickstart_bo_vanilla/BO/bayesOpt_7_ --ignore-route-errors=true --net-file=/Users/chois/Gitsrcs/origin_destination_bayes_opt/network/quickstart/net.xml --routes=/Users/chois/Gitsrcs/origin_destination_bayes_opt/output/quickstart_bo_vanilla/BO/bayesOpt_7_trips.xml -b 0 -e 57600 --additional-files /Users/chois/Gitsrcs/origin_destination_bayes_opt/network/quickstart/additional.xml --duration-log.statistics --xml-validation never --vehroutes routes.vehroutes.xml --verbose --no-warnings --mesosim true --seed 0\n",
      "Loading net-file from '/Users/chois/Gitsrcs/origin_destination_bayes_opt/network/quickstart/net.xml' ... done (3ms).\n",
      "Loading additional-files from '/Users/chois/Gitsrcs/origin_destination_bayes_opt/network/quickstart/additional.xml' ... done (2ms).\n",
      "Loading done.\n",
      "Simulation version 1.20.0 started with time: 0.00.\n"
     ]
    },
    {
     "name": "stderr",
     "output_type": "stream",
     "text": [
      "Warning: Could not set locale to 'C'.\n",
      "Warning: Could not set locale to 'C'.\n"
     ]
    },
    {
     "name": "stdout",
     "output_type": "stream",
     "text": [
      "Step #57600.00 (0ms ?*RT. ?UPS, vehicles TOT 2810 ACT 0 BUF 0)                            \n",
      "Simulation ended at time: 57600.00\n",
      "Reason: The final simulation step has been reached.\n",
      "Performance: \n",
      " Duration: 0.69s\n",
      " Real time factor: 82997.1\n",
      " UPS: 1754971.181556\n",
      "Vehicles: \n",
      " Inserted: 2810\n",
      " Running: 0\n",
      " Waiting: 0\n",
      "Statistics (avg of 2810):\n",
      " RouteLength: 4598.72\n",
      " Speed: 10.65\n",
      " Duration: 433.43\n",
      " WaitingTime: 0.36\n",
      " TimeLoss: 97.36\n",
      " DepartDelay: 668.54\n",
      "\n",
      "DijkstraRouter answered 5457 queries and explored 11.50 edges on average.\n",
      "DijkstraRouter spent 0.01s answering queries (0.00ms on average).\n",
      "/Users/chois/Gitsrcs/origin_destination_bayes_opt/output/quickstart_bo_vanilla/BO/bayesOpt_7_edge_data_quickstart.xml\n",
      "number of GT edges: 14\n",
      "############## loss: 0.12348250480972128 ##############\n",
      "########### BO iteration=9 ###########\n",
      "##### best_value=-0.12348250480972128 #####\n",
      "Generating new sampling location(s)....\n",
      "########### Sampling location=1 ###########\n",
      "total expected GT demand: 3229.987721952597\n",
      "Created  /Users/chois/Gitsrcs/origin_destination_bayes_opt/output/quickstart_bo_vanilla/od.xml\n",
      "od2trips  --spread.uniform --taz-files /Users/chois/Gitsrcs/origin_destination_bayes_opt/network/quickstart/taz.xml --tazrelation-files output/quickstart_bo_vanilla/od.xml -o /Users/chois/Gitsrcs/origin_destination_bayes_opt/output/quickstart_bo_vanilla/BO/bayesOpt_8_trips_beforeRteUpdates.xml\n",
      "Success.time 299.50\n",
      "###### Running SUMO #######\n",
      "Seed 0\n",
      "sumo --output-prefix output/quickstart_bo_vanilla/BO/bayesOpt_8_ --ignore-route-errors=true --net-file=/Users/chois/Gitsrcs/origin_destination_bayes_opt/network/quickstart/net.xml --routes=/Users/chois/Gitsrcs/origin_destination_bayes_opt/output/quickstart_bo_vanilla/BO/bayesOpt_8_trips.xml -b 0 -e 57600 --additional-files /Users/chois/Gitsrcs/origin_destination_bayes_opt/network/quickstart/additional.xml --duration-log.statistics --xml-validation never --vehroutes routes.vehroutes.xml --verbose --no-warnings --mesosim true --seed 0\n",
      "Loading net-file from '/Users/chois/Gitsrcs/origin_destination_bayes_opt/network/quickstart/net.xml' ... done (3ms).\n",
      "Loading additional-files from '/Users/chois/Gitsrcs/origin_destination_bayes_opt/network/quickstart/additional.xml' ... done (1ms).\n",
      "Loading done.\n",
      "Simulation version 1.20.0 started with time: 0.00.\n"
     ]
    },
    {
     "name": "stderr",
     "output_type": "stream",
     "text": [
      "Warning: Could not set locale to 'C'.\n",
      "Warning: Could not set locale to 'C'.\n"
     ]
    },
    {
     "name": "stdout",
     "output_type": "stream",
     "text": [
      "Step #57600.00 (0ms ?*RT. ?UPS, vehicles TOT 3228 ACT 0 BUF 0)                            \n",
      "Simulation ended at time: 57600.00\n",
      "Reason: The final simulation step has been reached.\n",
      "Performance: \n",
      " Duration: 0.92s\n",
      " Real time factor: 62950.8\n",
      " UPS: 1605543.169399\n",
      "Vehicles: \n",
      " Inserted: 3228\n",
      " Running: 0\n",
      " Waiting: 0\n",
      "Statistics (avg of 3228):\n",
      " RouteLength: 4576.21\n",
      " Speed: 10.24\n",
      " Duration: 455.10\n",
      " WaitingTime: 0.42\n",
      " TimeLoss: 120.48\n",
      " DepartDelay: 930.83\n",
      "\n",
      "DijkstraRouter answered 6291 queries and explored 11.40 edges on average.\n",
      "DijkstraRouter spent 0.01s answering queries (0.00ms on average).\n",
      "/Users/chois/Gitsrcs/origin_destination_bayes_opt/output/quickstart_bo_vanilla/BO/bayesOpt_8_edge_data_quickstart.xml\n",
      "number of GT edges: 14\n",
      "############## loss: 0.35123005684562875 ##############\n",
      "########### BO iteration=10 ###########\n",
      "##### best_value=-0.12348250480972128 #####\n",
      "Generating new sampling location(s)....\n",
      "########### Sampling location=1 ###########\n",
      "total expected GT demand: 2391.8024599552155\n",
      "Created  /Users/chois/Gitsrcs/origin_destination_bayes_opt/output/quickstart_bo_vanilla/od.xml\n",
      "od2trips  --spread.uniform --taz-files /Users/chois/Gitsrcs/origin_destination_bayes_opt/network/quickstart/taz.xml --tazrelation-files output/quickstart_bo_vanilla/od.xml -o /Users/chois/Gitsrcs/origin_destination_bayes_opt/output/quickstart_bo_vanilla/BO/bayesOpt_9_trips_beforeRteUpdates.xml\n",
      "Success.time 299.83\n",
      "###### Running SUMO #######\n",
      "Seed 0\n",
      "sumo --output-prefix output/quickstart_bo_vanilla/BO/bayesOpt_9_ --ignore-route-errors=true --net-file=/Users/chois/Gitsrcs/origin_destination_bayes_opt/network/quickstart/net.xml --routes=/Users/chois/Gitsrcs/origin_destination_bayes_opt/output/quickstart_bo_vanilla/BO/bayesOpt_9_trips.xml -b 0 -e 57600 --additional-files /Users/chois/Gitsrcs/origin_destination_bayes_opt/network/quickstart/additional.xml --duration-log.statistics --xml-validation never --vehroutes routes.vehroutes.xml --verbose --no-warnings --mesosim true --seed 0\n"
     ]
    },
    {
     "name": "stderr",
     "output_type": "stream",
     "text": [
      "Warning: Could not set locale to 'C'.\n",
      "Warning: Could not set locale to 'C'.\n"
     ]
    },
    {
     "name": "stdout",
     "output_type": "stream",
     "text": [
      "Loading net-file from '/Users/chois/Gitsrcs/origin_destination_bayes_opt/network/quickstart/net.xml' ... done (3ms).\n",
      "Loading additional-files from '/Users/chois/Gitsrcs/origin_destination_bayes_opt/network/quickstart/additional.xml' ... done (1ms).\n",
      "Loading done.\n",
      "Simulation version 1.20.0 started with time: 0.00.\n",
      "Step #57600.00 (0ms ?*RT. ?UPS, vehicles TOT 2391 ACT 0 BUF 0)                            \n",
      "Simulation ended at time: 57600.00\n",
      "Reason: The final simulation step has been reached.\n",
      "Performance: \n",
      " Duration: 0.77s\n",
      " Real time factor: 75195.8\n",
      " UPS: 1253561.357702\n",
      "Vehicles: \n",
      " Inserted: 2391\n",
      " Running: 0\n",
      " Waiting: 0\n",
      "Statistics (avg of 2391):\n",
      " RouteLength: 4355.52\n",
      " Speed: 10.86\n",
      " Duration: 401.60\n",
      " WaitingTime: 0.20\n",
      " TimeLoss: 83.47\n",
      " DepartDelay: 1060.34\n",
      "\n",
      "DijkstraRouter answered 4590 queries and explored 10.53 edges on average.\n",
      "DijkstraRouter spent 0.00s answering queries (0.00ms on average).\n",
      "/Users/chois/Gitsrcs/origin_destination_bayes_opt/output/quickstart_bo_vanilla/BO/bayesOpt_9_edge_data_quickstart.xml\n",
      "number of GT edges: 14\n",
      "############## loss: 0.40630314854885147 ##############\n"
     ]
    }
   ],
   "source": [
    "#/Users/rodrse/Downloads/ForSergio_nov26_2023_final/bayesian_optimization/vanilla_bo\n",
    "### Run loop\n",
    "best_value = []\n",
    "\n",
    "# Data frame of current training data\n",
    "df_training = df_0\n",
    "df_training[\"bo_iteration\"] = 0\n",
    "\n",
    "df_edge_stats = pd.DataFrame()\n",
    "\n",
    "#num_epsilon_iter = 2\n",
    "bayes_opt_method = \"bayesian_optimization/vanilla_bo_experiment_2\"\n",
    "ods_epsilon = []\n",
    "loss_all = []\n",
    "batch_data_i = []\n",
    "\n",
    "# Base OD which we will update their count entries\n",
    "base_od = gt_od_df.copy()\n",
    "gt_od_vals = gt_od_df['count'].astype(float).to_numpy()\n",
    "\n",
    "for i in range(NITER):\n",
    "\n",
    "    # new_od_xml = f'{bayes_opt_method}/gt_od_{gt_version_str}_{i}.xml'\n",
    "    # prefix_output = f'{bayes_opt_method}/bayesOpt_{i}'\n",
    "\n",
    "    new_od_xml = f'{simulation_run_path}/od.xml'\n",
    "    prefix_output_bo = f'{simulation_run_path}/BO/bayesOpt_{i}'\n",
    "    Path(f'{simulation_run_path}/BO').mkdir(parents=True, exist_ok=True)\n",
    "\n",
    "    ########\n",
    "    # Start BO step\n",
    "    ########\n",
    "\n",
    "    print(f\"########### BO iteration={i+1} ###########\")\n",
    "\n",
    "    # Obtain sampling locations x\n",
    "    train_X = torch.from_numpy(\n",
    "        df_training[[col for col in df_training.columns if \"x\" in col]].values\n",
    "    ).to(device=device, dtype=dtype)\n",
    "\n",
    "    # Normalize\n",
    "    train_X_norm = normalize(train_X,bounds)\n",
    "\n",
    "    # Obtain reponse data\n",
    "    train_Y = -torch.from_numpy(df_training[[\"loss\"]].values) # Take negative\n",
    "\n",
    "    # best value so far\n",
    "    best_y = train_Y.max()\n",
    "    best_value.append(best_y)\n",
    "    print(f\"##### best_value={best_y} #####\")\n",
    "\n",
    "    print(f\"Generating new sampling location(s)....\")\n",
    "    # Declare model with newest data\n",
    "    gp_model, gp_mll = initialize_gp_model(train_X_norm,train_Y)\n",
    "\n",
    "    # Fit model\n",
    "    fit_gpytorch_mll(gp_mll)\n",
    "\n",
    "    # Construct acquistion function \n",
    "    sampler = StochasticSampler(sample_shape=torch.Size([128]))\n",
    "    # qEI = qExpectedImprovement(gp_model, best_f=best_y, sampler=sampler)\n",
    "    qEI = qLogExpectedImprovement(gp_model, best_f=best_y, sampler=sampler)\n",
    "\n",
    "    # Maximize acquisition function to get next observation\n",
    "    x_i = optimize_acqf_and_get_observation(acq_func=qEI,bounds=bounds)\n",
    "\n",
    "    # map the normalized into the original parameter space\n",
    "    #x_i = unnormalize(x_i, bounds)\n",
    "    x_i = x_i.cpu().detach().numpy()\n",
    "\n",
    "    ########\n",
    "    # End BO step\n",
    "    ########    \n",
    "\n",
    "\n",
    "    # Sample simulator (inner loop across all sampling locations within a batch)\n",
    "    # TODO: Parallelize\n",
    "    batch_data_i = []\n",
    "    for j in range(BATCH_SIZE):\n",
    "        loss_all = []\n",
    "        print(f\"########### Sampling location={j+1} ###########\")\n",
    "\n",
    "        # Generate OD\n",
    "        #curr_od = gt_od_vals.copy()\n",
    "        curr_od = x_i[j]\n",
    "\n",
    "        print(f'total expected GT demand: {np.sum(curr_od)}')\n",
    "\n",
    "        base_od['count'] = curr_od\n",
    "        # round to 1 decimal point\n",
    "        base_od['count'] = [round(elem, 1) for elem in base_od['count']]     \n",
    "        base_od = base_od.rename(columns={'fromTaz':'from', 'toTaz':'to'})        \n",
    "        create_taz_xml(new_od_xml, base_od, od_duration_sec, base_path)\n",
    "\n",
    "        # simulate gt od\n",
    "        simulate_od(new_od_xml, \n",
    "                    prefix_output_bo, \n",
    "                    base_path, \n",
    "                    net_xml, \n",
    "                    taz2edge_xml, \n",
    "                    additional_xml, \n",
    "                    routes_df,\n",
    "                    sim_end_time,\n",
    "                    TRIPS2ODS_OUT_STR)\n",
    "\n",
    "        ## Compute loss\n",
    "        sim_edge_out = f'{base_path}/{prefix_output_bo}_{EDGE_OUT_STR}'\n",
    "        print(sim_edge_out)\n",
    "        curr_loop_stats, _, _ = parse_loop_data_xml_to_pandas(base_path, sim_edge_out,prefix_output_bo,SUMO_PATH)\n",
    "        \n",
    "        curr_loss = compute_nrmse_counts_all_edges(gt_edge_data, curr_loop_stats)\n",
    "        loss_all.append(curr_loss)\n",
    "        print(f\"############## loss: {curr_loss} ##############\")\n",
    "\n",
    "        # Parse training data\n",
    "        df_j = pd.DataFrame(x_i[j].reshape(1,dim_od),\n",
    "                            columns = [f\"x_{i+1}\" for i in range(dim_od)])\n",
    "        df_j['loss'] = curr_loss\n",
    "        batch_data_i.append(df_j)\n",
    "\n",
    "        curr_loop_stats['bo_iteration'] = i\n",
    "        curr_loop_stats['batch'] = j\n",
    "        df_edge_stats = pd.concat([df_edge_stats, curr_loop_stats])\n",
    "\n",
    "    df_i = pd.concat(batch_data_i)\n",
    "    df_i[\"bo_iteration\"] = i+1\n",
    "\n",
    "    df_training = pd.concat([df_training,df_i])\n"
   ]
  },
  {
   "cell_type": "code",
   "execution_count": 26,
   "metadata": {},
   "outputs": [
    {
     "data": {
      "text/plain": [
       "(20, 6)"
      ]
     },
     "execution_count": 26,
     "metadata": {},
     "output_type": "execute_result"
    }
   ],
   "source": [
    "df_training.shape"
   ]
  },
  {
   "cell_type": "code",
   "execution_count": 27,
   "metadata": {},
   "outputs": [
    {
     "name": "stdout",
     "output_type": "stream",
     "text": [
      "output/quickstart_bo_vanilla/BO/data_set_bayes_opt.csv\n"
     ]
    }
   ],
   "source": [
    "# print(base_path + f\"/{bayes_opt_method}/data_set_bayes_opt.csv\")\n",
    "print(f\"{simulation_run_path}/BO/data_set_bayes_opt.csv\")\n",
    "# df_training.to_csv(base_path + f\"/{bayes_opt_method}/data_set_bayes_opt.csv\",index=None)\n",
    "df_training.to_csv(f\"{simulation_run_path}/BO/data_set_bayes_opt.csv\",index=None)"
   ]
  },
  {
   "cell_type": "markdown",
   "metadata": {},
   "source": [
    "## plot trajectories\n"
   ]
  },
  {
   "cell_type": "code",
   "execution_count": 28,
   "metadata": {},
   "outputs": [
    {
     "data": {
      "image/png": "[encoded data removed]",
      "text/plain": [
       "<Figure size 640x480 with 1 Axes>"
      ]
     },
     "metadata": {},
     "output_type": "display_data"
    }
   ],
   "source": [
    "df_plot = df_training.query('bo_iteration>0')\n",
    "\n",
    "x = df_plot['bo_iteration']\n",
    "y = df_plot['loss'].cummin()\n",
    "\n",
    "plt.plot(x, y)\n",
    "#plt.legend(title='Parameter where:')\n",
    "plt.show()"
   ]
  },
  {
   "cell_type": "code",
   "execution_count": 29,
   "metadata": {},
   "outputs": [
    {
     "name": "stdout",
     "output_type": "stream",
     "text": [
      "number of GT edges: 14\n",
      "number of GT edges: 14\n",
      "number of GT edges: 14\n",
      "number of GT edges: 14\n",
      "number of GT edges: 14\n",
      "number of GT edges: 14\n",
      "number of GT edges: 14\n",
      "number of GT edges: 14\n",
      "number of GT edges: 14\n",
      "number of GT edges: 14\n"
     ]
    },
    {
     "data": {
      "image/png": "[encoded data removed]",
      "text/plain": [
       "<Figure size 640x480 with 1 Axes>"
      ]
     },
     "metadata": {},
     "output_type": "display_data"
    },
    {
     "data": {
      "image/png": "[encoded data removed]",
      "text/plain": [
       "<Figure size 640x480 with 1 Axes>"
      ]
     },
     "metadata": {},
     "output_type": "display_data"
    },
    {
     "data": {
      "image/png": "[encoded data removed]",
      "text/plain": [
       "<Figure size 640x480 with 1 Axes>"
      ]
     },
     "metadata": {},
     "output_type": "display_data"
    },
    {
     "data": {
      "image/png": "[encoded data removed]",
      "text/plain": [
       "<Figure size 640x480 with 1 Axes>"
      ]
     },
     "metadata": {},
     "output_type": "display_data"
    },
    {
     "data": {
      "image/png": "[encoded data removed]",
      "text/plain": [
       "<Figure size 640x480 with 1 Axes>"
      ]
     },
     "metadata": {},
     "output_type": "display_data"
    },
    {
     "data": {
      "image/png": "[encoded data removed]",
      "text/plain": [
       "<Figure size 640x480 with 1 Axes>"
      ]
     },
     "metadata": {},
     "output_type": "display_data"
    },
    {
     "data": {
      "image/png": "[encoded data removed]",
      "text/plain": [
       "<Figure size 640x480 with 1 Axes>"
      ]
     },
     "metadata": {},
     "output_type": "display_data"
    },
    {
     "data": {
      "image/png": "[encoded data removed]",
      "text/plain": [
       "<Figure size 640x480 with 1 Axes>"
      ]
     },
     "metadata": {},
     "output_type": "display_data"
    },
    {
     "data": {
      "image/png": "[encoded data removed]",
      "text/plain": [
       "<Figure size 640x480 with 1 Axes>"
      ]
     },
     "metadata": {},
     "output_type": "display_data"
    },
    {
     "data": {
      "image/png": "[encoded data removed]",
      "text/plain": [
       "<Figure size 640x480 with 1 Axes>"
      ]
     },
     "metadata": {},
     "output_type": "display_data"
    }
   ],
   "source": [
    "if df_edge_stats.batch.drop_duplicates().shape[0] > 1:\n",
    "    raise('This needs updating once we start using batches')\n",
    "\n",
    "for o1 in range(NITER): #num_epsilon_iter):\n",
    "    curr_edge_stats = df_edge_stats[df_edge_stats.bo_iteration == o1]\n",
    "    df1b = gt_edge_data.merge(curr_edge_stats, on=['edge_id'], how='left', suffixes=('_gt', '_bo'))\n",
    "    curr_loss = compute_nrmse_counts_all_edges(gt_edge_data, curr_edge_stats)\n",
    "    \n",
    "\n",
    "    plt.figure()    \n",
    "    plt.plot(df1b.interval_nVehContrib_gt, df1b.interval_nVehContrib_bo, 'x') \n",
    "    plt.title(f'BO iteration: {o1}; loss: {curr_loss}')\n",
    "    plt.xlabel('GT edge counts') \n",
    "    plt.ylabel('Simulated edge counts') \n",
    "    \n",
    "    # plotting diagonal line that represents a perfect data fit\n",
    "    max_val = np.max([df1b.interval_nVehContrib_gt.max(), df1b.interval_nVehContrib_bo.max()])\n",
    "    vec = np.arange(max_val)\n",
    "    plt.plot(vec, vec, 'r.')\n"
   ]
  },
  {
   "cell_type": "code",
   "execution_count": 30,
   "metadata": {},
   "outputs": [
    {
     "data": {
      "text/html": [
       "<div>\n",
       "<style scoped>\n",
       "    .dataframe tbody tr th:only-of-type {\n",
       "        vertical-align: middle;\n",
       "    }\n",
       "\n",
       "    .dataframe tbody tr th {\n",
       "        vertical-align: top;\n",
       "    }\n",
       "\n",
       "    .dataframe thead th {\n",
       "        text-align: right;\n",
       "    }\n",
       "</style>\n",
       "<table border=\"1\" class=\"dataframe\">\n",
       "  <thead>\n",
       "    <tr style=\"text-align: right;\">\n",
       "      <th></th>\n",
       "      <th>x_1</th>\n",
       "      <th>x_2</th>\n",
       "      <th>x_3</th>\n",
       "      <th>x_4</th>\n",
       "      <th>loss</th>\n",
       "      <th>bo_iteration</th>\n",
       "    </tr>\n",
       "  </thead>\n",
       "  <tbody>\n",
       "    <tr>\n",
       "      <th>0</th>\n",
       "      <td>1865.265131</td>\n",
       "      <td>181.159094</td>\n",
       "      <td>1428.094387</td>\n",
       "      <td>1091.529727</td>\n",
       "      <td>0.860823</td>\n",
       "      <td>0</td>\n",
       "    </tr>\n",
       "    <tr>\n",
       "      <th>1</th>\n",
       "      <td>879.863679</td>\n",
       "      <td>1058.053970</td>\n",
       "      <td>326.977700</td>\n",
       "      <td>404.435515</td>\n",
       "      <td>0.527137</td>\n",
       "      <td>0</td>\n",
       "    </tr>\n",
       "    <tr>\n",
       "      <th>2</th>\n",
       "      <td>121.316478</td>\n",
       "      <td>769.173145</td>\n",
       "      <td>1654.914498</td>\n",
       "      <td>1942.880392</td>\n",
       "      <td>0.836649</td>\n",
       "      <td>0</td>\n",
       "    </tr>\n",
       "    <tr>\n",
       "      <th>3</th>\n",
       "      <td>1139.436960</td>\n",
       "      <td>1891.911864</td>\n",
       "      <td>599.779248</td>\n",
       "      <td>505.980551</td>\n",
       "      <td>0.865320</td>\n",
       "      <td>0</td>\n",
       "    </tr>\n",
       "    <tr>\n",
       "      <th>4</th>\n",
       "      <td>1289.055705</td>\n",
       "      <td>734.865010</td>\n",
       "      <td>27.929902</td>\n",
       "      <td>841.207385</td>\n",
       "      <td>0.523374</td>\n",
       "      <td>0</td>\n",
       "    </tr>\n",
       "  </tbody>\n",
       "</table>\n",
       "</div>"
      ],
      "text/plain": [
       "           x_1          x_2          x_3          x_4      loss  bo_iteration\n",
       "0  1865.265131   181.159094  1428.094387  1091.529727  0.860823             0\n",
       "1   879.863679  1058.053970   326.977700   404.435515  0.527137             0\n",
       "2   121.316478   769.173145  1654.914498  1942.880392  0.836649             0\n",
       "3  1139.436960  1891.911864   599.779248   505.980551  0.865320             0\n",
       "4  1289.055705   734.865010    27.929902   841.207385  0.523374             0"
      ]
     },
     "execution_count": 30,
     "metadata": {},
     "output_type": "execute_result"
    }
   ],
   "source": [
    "df_training.head()"
   ]
  }
 ],
 "metadata": {
  "kernelspec": {
   "display_name": "Python 3 (ipykernel)",
   "language": "python",
   "name": "python3"
  },
  "language_info": {
   "codemirror_mode": {
    "name": "ipython",
    "version": 3
   },
   "file_extension": ".py",
   "mimetype": "text/x-python",
   "name": "python",
   "nbconvert_exporter": "python",
   "pygments_lexer": "ipython3",
   "version": "3.9.6"
  }
 },
 "nbformat": 4,
 "nbformat_minor": 4
}
