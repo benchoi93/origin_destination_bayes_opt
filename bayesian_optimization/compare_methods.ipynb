{
 "cells": [
  {
   "cell_type": "code",
   "execution_count": null,
   "metadata": {},
   "outputs": [],
   "source": [
    "import pandas as pd\n",
    "from helpers import *\n",
    "\n",
    "def od_xml_to_df(file_path):\n",
    "\n",
    "    tree = ET.parse(file_path)\n",
    "    root = tree.getroot()\n",
    "    gt_od_df =  xml2df_str(root, 'tazRelation')\n",
    "    \n",
    "    gt_od_vals = gt_od_df['count'].astype(float)\n",
    "    print('total GT demand: ',gt_od_vals.sum())\n",
    "\n",
    "    return gt_od_df"
   ]
  },
  {
   "cell_type": "code",
   "execution_count": null,
   "metadata": {},
   "outputs": [],
   "source": [
    "base_path = '/Users/rodrse/Downloads/ForSergio_nov26_2023_final'\n",
    "EDGE_OUT_STR = 'edge_data_SFO.xml'\n",
    "SUMO_PATH = '/usr/local/opt/sumo/share/sumo'\n"
   ]
  },
  {
   "cell_type": "code",
   "execution_count": null,
   "metadata": {},
   "outputs": [],
   "source": [
    "taz2edge_xml = 'taz_new.xml'\n",
    "net_xml = 'SFO.net.xml'\n",
    "fixed_routes_xml = f'{base_path}/5hr_route_choice_set.csv'\n",
    "od_duration_seconds = 5*60 \n",
    "\n",
    "# duration of sample time for simulation output statistics\n",
    "simulation_stat_freq_sec = od_duration_seconds\n",
    "sim_end_time = od_duration_seconds\n",
    "additional_xml = f'additional.add_statfreq{od_duration_seconds}.xml'\n",
    "\n",
    "# suffix of simulation output edge file\n",
    "EDGE_OUT_STR = 'edge_data_SFO.xml'\n",
    "TRIPS2ODS_OUT_STR = 'trips.xml'\n",
    "SUMO_PATH = '/usr/local/opt/sumo/share/sumo'"
   ]
  },
  {
   "cell_type": "code",
   "execution_count": null,
   "metadata": {},
   "outputs": [],
   "source": [
    "gt_version_str = 'v4'\n",
    "\n",
    "# gt v4:\n",
    "mean_od_val = 100\n",
    "num_ods = 10\n",
    "\n",
    "print('if you want to optimize them all (~86k) set num_ods as defined in commented line below')\n",
    "#num_ods = routes_df.shape[0]\n",
    "\n",
    "od_xml = f'gt_od_{gt_version_str}.xml'\n",
    "file_gt = f'{base_path}/gt_od_{gt_version_str}.xml'\n",
    "file_gt_edges = f'{base_path}/gt_edges_{gt_version_str}.csv'\n",
    "prefix_output_gt = f'gt_{gt_version_str}'\n",
    "# Get GT OD\n",
    "print(\"Reading:\",file_gt)\n",
    "tree = ET.parse(file_gt)\n",
    "root = tree.getroot()\n",
    "gt_od_df =  xml2df_str(root, 'tazRelation')\n",
    "\n",
    "gt_od_df.head()\n",
    "\n",
    "print(\"Reading:\",fixed_routes_xml)\n",
    "routes_df = pd.read_csv(fixed_routes_xml, index_col=0)\n",
    "\n",
    "gt_od_df = od_xml_to_df(file_gt)\n",
    "\n"
   ]
  },
  {
   "cell_type": "code",
   "execution_count": null,
   "metadata": {},
   "outputs": [],
   "source": [
    "sim_edge_out_gt = f'{base_path}/{prefix_output_gt}_{EDGE_OUT_STR}'\n",
    "df_edge_gt, _, _ = parse_loop_data_xml_to_pandas(base_path, sim_edge_out_gt, prefix_output_gt,SUMO_PATH)\n",
    "# picking at edges as GT edges\n",
    "num_gt_edges = df_edge_gt.shape[0]\n",
    "print(\"Number of GT edges:\",num_gt_edges)\n",
    "gt_edge_data = df_edge_gt\\\n",
    "    .sort_values(by=['interval_nVehContrib'], ascending=False)\\\n",
    "    .iloc[:num_gt_edges]\n",
    "\n",
    "#gt_edge_data.shape\n",
    "\n",
    "\n"
   ]
  },
  {
   "cell_type": "code",
   "execution_count": null,
   "metadata": {},
   "outputs": [],
   "source": [
    "path_bo = \"bayesian_optimization\"\n",
    "bayes_opt_method = [\"trust_region_bo\",\"saasbo\",\"vanilla_bo\"]\n",
    "\n",
    "bayes_opt_d = {}\n",
    "for bo_ in bayes_opt_method:\n",
    "    edge_epsilon_all = []\n",
    "    curr_loss_list = []\n",
    "    for o1 in range(100):\n",
    "        curr_prefix = f'{bo_}/bayesOpt_{o1}'\n",
    "        try:\n",
    "            sim_edge_out = f'{base_path}/bayesian_optimization/{curr_prefix}_{EDGE_OUT_STR}'\n",
    "            curr_loop_stats, _, _ = parse_loop_data_xml_to_pandas(\n",
    "                base_path + \"/bayesian_optimization\", sim_edge_out, curr_prefix,SUMO_PATH\n",
    "            )\n",
    "            \n",
    "        except:\n",
    "            print(\"No run exist\")\n",
    "            #curr_loss = np.nan\n",
    "            break\n",
    "        else:\n",
    "            curr_loss = compute_nrmse_counts_all_edges(gt_edge_data, curr_loop_stats)\n",
    "\n",
    "        curr_loss_list.append(curr_loss )\n",
    "        #edge_epsilon_all.append(curr_loop_stats)\n",
    "\n",
    "    bayes_opt_d[bo_] = curr_loss_list"
   ]
  },
  {
   "cell_type": "code",
   "execution_count": null,
   "metadata": {},
   "outputs": [],
   "source": [
    "import matplotlib.pyplot as plt\n",
    "\n",
    "# Assuming x-values\n",
    "x_values = np.arange(100)\n",
    "\n",
    "# Given y-values\n",
    "vanilla_bo = np.array(bayes_opt_d[\"vanilla_bo\"])\n",
    "x_values_vanilla_bo = np.arange(len(vanilla_bo))\n",
    "\n",
    "trust_region_bo = np.array(bayes_opt_d[\"trust_region_bo\"])\n",
    "x_values_trust_region_bo = np.arange(len(trust_region_bo))\n",
    "\n",
    "saasbo = np.array(bayes_opt_d[\"saasbo\"])\n",
    "x_values_saasbo = np.arange(len(trust_region_bo))\n",
    "\n",
    "\n",
    "# Calculate cumulative minimum\n",
    "cumulative_min_vanilla_bo = np.minimum.accumulate(vanilla_bo)\n",
    "cumulative_min_trust_region_bo = np.minimum.accumulate(trust_region_bo)\n",
    "cumulative_min_saasbo = np.minimum.accumulate(saasbo)\n",
    "\n",
    "# Plotting cumulative minimum\n",
    "plt.plot(x_values_vanilla_bo, cumulative_min_vanilla_bo, label='vanilla_bo')\n",
    "plt.plot(x_values_trust_region_bo,cumulative_min_trust_region_bo, label='trust_region_bo')\n",
    "plt.plot(x_values_saasbo, cumulative_min_saasbo, label='saasbo')\n",
    "\n",
    "\n",
    "# Adding labels and title\n",
    "plt.xlabel('iteration')\n",
    "plt.ylabel('')\n",
    "plt.title('Plot of X vs Y for Different Methods')\n",
    "plt.legend()  # Adding legend\n",
    "\n",
    "# Display the plot\n",
    "plt.show()"
   ]
  },
  {
   "cell_type": "code",
   "execution_count": null,
   "metadata": {},
   "outputs": [],
   "source": []
  }
 ],
 "metadata": {
  "kernelspec": {
   "display_name": "BoTorch",
   "language": "python",
   "name": "botorch"
  },
  "language_info": {
   "codemirror_mode": {
    "name": "ipython",
    "version": 3
   },
   "file_extension": ".py",
   "mimetype": "text/x-python",
   "name": "python",
   "nbconvert_exporter": "python",
   "pygments_lexer": "ipython3",
   "version": "3.9.11"
  }
 },
 "nbformat": 4,
 "nbformat_minor": 2
}
